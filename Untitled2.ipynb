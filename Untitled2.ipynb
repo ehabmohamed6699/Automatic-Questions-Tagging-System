{
 "cells": [
  {
   "cell_type": "code",
   "execution_count": 1,
   "id": "540e3348",
   "metadata": {},
   "outputs": [],
   "source": [
    "import pandas as pd"
   ]
  },
  {
   "cell_type": "code",
   "execution_count": 2,
   "id": "2688ed1b",
   "metadata": {},
   "outputs": [],
   "source": [
    "Tags = pd.read_csv(\"Filtered_tags.csv\")"
   ]
  },
  {
   "cell_type": "code",
   "execution_count": 9,
   "id": "9dedb73d",
   "metadata": {},
   "outputs": [
    {
     "data": {
      "text/html": [
       "<div>\n",
       "<style scoped>\n",
       "    .dataframe tbody tr th:only-of-type {\n",
       "        vertical-align: middle;\n",
       "    }\n",
       "\n",
       "    .dataframe tbody tr th {\n",
       "        vertical-align: top;\n",
       "    }\n",
       "\n",
       "    .dataframe thead th {\n",
       "        text-align: right;\n",
       "    }\n",
       "</style>\n",
       "<table border=\"1\" class=\"dataframe\">\n",
       "  <thead>\n",
       "    <tr style=\"text-align: right;\">\n",
       "      <th></th>\n",
       "      <th>Unnamed: 0</th>\n",
       "      <th>Id</th>\n",
       "      <th>Tag</th>\n",
       "    </tr>\n",
       "  </thead>\n",
       "  <tbody>\n",
       "    <tr>\n",
       "      <th>0</th>\n",
       "      <td>7</td>\n",
       "      <td>120</td>\n",
       "      <td>sql</td>\n",
       "    </tr>\n",
       "    <tr>\n",
       "      <th>1</th>\n",
       "      <td>8</td>\n",
       "      <td>120</td>\n",
       "      <td>asp.net</td>\n",
       "    </tr>\n",
       "    <tr>\n",
       "      <th>2</th>\n",
       "      <td>10</td>\n",
       "      <td>180</td>\n",
       "      <td>algorithm</td>\n",
       "    </tr>\n",
       "    <tr>\n",
       "      <th>3</th>\n",
       "      <td>14</td>\n",
       "      <td>260</td>\n",
       "      <td>c#</td>\n",
       "    </tr>\n",
       "    <tr>\n",
       "      <th>4</th>\n",
       "      <td>15</td>\n",
       "      <td>260</td>\n",
       "      <td>.net</td>\n",
       "    </tr>\n",
       "  </tbody>\n",
       "</table>\n",
       "</div>"
      ],
      "text/plain": [
       "   Unnamed: 0   Id        Tag\n",
       "0           7  120        sql\n",
       "1           8  120    asp.net\n",
       "2          10  180  algorithm\n",
       "3          14  260         c#\n",
       "4          15  260       .net"
      ]
     },
     "execution_count": 9,
     "metadata": {},
     "output_type": "execute_result"
    }
   ],
   "source": [
    "Tags.head()"
   ]
  },
  {
   "cell_type": "code",
   "execution_count": 3,
   "id": "a1ccf6c4",
   "metadata": {},
   "outputs": [
    {
     "data": {
      "text/plain": [
       "javascript       124155\n",
       "java             115212\n",
       "c#               101186\n",
       "php               98808\n",
       "android           90659\n",
       "                  ...  \n",
       "google-chrome      4336\n",
       "jsp                4312\n",
       "symfony2           4228\n",
       "python-3.x         4222\n",
       "tsql               4158\n",
       "Name: Tag, Length: 100, dtype: int64"
      ]
     },
     "execution_count": 3,
     "metadata": {},
     "output_type": "execute_result"
    }
   ],
   "source": [
    "Tags[\"Tag\"].value_counts()"
   ]
  },
  {
   "cell_type": "code",
   "execution_count": 5,
   "id": "7c1e1968",
   "metadata": {},
   "outputs": [
    {
     "data": {
      "text/plain": [
       "(1755529, 3)"
      ]
     },
     "execution_count": 5,
     "metadata": {},
     "output_type": "execute_result"
    }
   ],
   "source": [
    "Tags.shape"
   ]
  },
  {
   "cell_type": "code",
   "execution_count": 6,
   "id": "a43fa1df",
   "metadata": {},
   "outputs": [
    {
     "name": "stderr",
     "output_type": "stream",
     "text": [
      "C:\\Users\\beboz\\.conda\\envs\\computervision\\lib\\site-packages\\IPython\\core\\interactiveshell.py:3072: DtypeWarning: Columns (1) have mixed types.Specify dtype option on import or set low_memory=False.\n",
      "  interactivity=interactivity, compiler=compiler, result=result)\n"
     ]
    }
   ],
   "source": [
    "Combined = pd.read_csv(\"Combined.csv\")"
   ]
  },
  {
   "cell_type": "code",
   "execution_count": 7,
   "id": "24ac6cda",
   "metadata": {},
   "outputs": [
    {
     "data": {
      "text/plain": [
       "(1033747, 4)"
      ]
     },
     "execution_count": 7,
     "metadata": {},
     "output_type": "execute_result"
    }
   ],
   "source": [
    "Combined.shape"
   ]
  },
  {
   "cell_type": "code",
   "execution_count": null,
   "id": "c2eea2c1",
   "metadata": {},
   "outputs": [],
   "source": [
    "#[0,0,0,1,0,0,1,0,......,0,1,1]\n",
    "\n"
   ]
  }
 ],
 "metadata": {
  "kernelspec": {
   "display_name": "Python 3",
   "language": "python",
   "name": "python3"
  },
  "language_info": {
   "codemirror_mode": {
    "name": "ipython",
    "version": 3
   },
   "file_extension": ".py",
   "mimetype": "text/x-python",
   "name": "python",
   "nbconvert_exporter": "python",
   "pygments_lexer": "ipython3",
   "version": "3.6.13"
  }
 },
 "nbformat": 4,
 "nbformat_minor": 5
}
