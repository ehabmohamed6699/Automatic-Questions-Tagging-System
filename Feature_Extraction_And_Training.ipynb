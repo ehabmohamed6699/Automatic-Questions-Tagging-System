{
 "cells": [
  {
   "cell_type": "code",
   "execution_count": 1,
   "id": "8f670b0c",
   "metadata": {},
   "outputs": [],
   "source": [
    "import pandas as pd\n",
    "import numpy as np"
   ]
  },
  {
   "cell_type": "code",
   "execution_count": 2,
   "id": "07326bdc",
   "metadata": {},
   "outputs": [
    {
     "name": "stderr",
     "output_type": "stream",
     "text": [
      "C:\\Users\\beboz\\.conda\\envs\\computervision\\lib\\site-packages\\IPython\\core\\interactiveshell.py:3072: DtypeWarning: Columns (1,2,4) have mixed types.Specify dtype option on import or set low_memory=False.\n",
      "  interactivity=interactivity, compiler=compiler, result=result)\n"
     ]
    }
   ],
   "source": [
    "Questions = pd.read_csv(\"Preprocessed_questions.csv\")"
   ]
  },
  {
   "cell_type": "code",
   "execution_count": 3,
   "id": "3852d897",
   "metadata": {},
   "outputs": [
    {
     "data": {
      "text/plain": [
       "(1033747, 7)"
      ]
     },
     "execution_count": 3,
     "metadata": {},
     "output_type": "execute_result"
    }
   ],
   "source": [
    "Questions.shape"
   ]
  },
  {
   "cell_type": "code",
   "execution_count": 4,
   "id": "d330e188",
   "metadata": {},
   "outputs": [
    {
     "data": {
      "text/html": [
       "<div>\n",
       "<style scoped>\n",
       "    .dataframe tbody tr th:only-of-type {\n",
       "        vertical-align: middle;\n",
       "    }\n",
       "\n",
       "    .dataframe tbody tr th {\n",
       "        vertical-align: top;\n",
       "    }\n",
       "\n",
       "    .dataframe thead th {\n",
       "        text-align: right;\n",
       "    }\n",
       "</style>\n",
       "<table border=\"1\" class=\"dataframe\">\n",
       "  <thead>\n",
       "    <tr style=\"text-align: right;\">\n",
       "      <th></th>\n",
       "      <th>Unnamed: 0</th>\n",
       "      <th>Id</th>\n",
       "      <th>OwnerUserId</th>\n",
       "      <th>CreationDate</th>\n",
       "      <th>Score</th>\n",
       "      <th>Title</th>\n",
       "      <th>Body</th>\n",
       "    </tr>\n",
       "  </thead>\n",
       "  <tbody>\n",
       "    <tr>\n",
       "      <th>0</th>\n",
       "      <td>0</td>\n",
       "      <td>80</td>\n",
       "      <td>26</td>\n",
       "      <td>2008-08-01T13:57:07Z</td>\n",
       "      <td>26</td>\n",
       "      <td>SQLStatement.execute() - multiple queries in o...</td>\n",
       "      <td>i 've write database generation script in sql ...</td>\n",
       "    </tr>\n",
       "    <tr>\n",
       "      <th>1</th>\n",
       "      <td>1</td>\n",
       "      <td>90</td>\n",
       "      <td>58</td>\n",
       "      <td>2008-08-01T14:41:24Z</td>\n",
       "      <td>144</td>\n",
       "      <td>Good branching and merging tutorials for Torto...</td>\n",
       "      <td>be there really good tutorial explain branchin...</td>\n",
       "    </tr>\n",
       "    <tr>\n",
       "      <th>2</th>\n",
       "      <td>2</td>\n",
       "      <td>120</td>\n",
       "      <td>83</td>\n",
       "      <td>2008-08-01T15:50:08Z</td>\n",
       "      <td>21</td>\n",
       "      <td>ASP.NET Site Maps</td>\n",
       "      <td>have anyone get experience create sql-based as...</td>\n",
       "    </tr>\n",
       "    <tr>\n",
       "      <th>3</th>\n",
       "      <td>3</td>\n",
       "      <td>180</td>\n",
       "      <td>2.08974e+06</td>\n",
       "      <td>2008-08-01T18:42:19Z</td>\n",
       "      <td>53</td>\n",
       "      <td>Function for creating color wheels</td>\n",
       "      <td>be something i 've pseudo-solved many time nev...</td>\n",
       "    </tr>\n",
       "    <tr>\n",
       "      <th>4</th>\n",
       "      <td>4</td>\n",
       "      <td>260</td>\n",
       "      <td>91</td>\n",
       "      <td>2008-08-01T23:22:08Z</td>\n",
       "      <td>49</td>\n",
       "      <td>Adding scripting functionality to .NET applica...</td>\n",
       "      <td>i have little game write in c use database as ...</td>\n",
       "    </tr>\n",
       "  </tbody>\n",
       "</table>\n",
       "</div>"
      ],
      "text/plain": [
       "   Unnamed: 0   Id  OwnerUserId          CreationDate Score  \\\n",
       "0           0   80           26  2008-08-01T13:57:07Z    26   \n",
       "1           1   90           58  2008-08-01T14:41:24Z   144   \n",
       "2           2  120           83  2008-08-01T15:50:08Z    21   \n",
       "3           3  180  2.08974e+06  2008-08-01T18:42:19Z    53   \n",
       "4           4  260           91  2008-08-01T23:22:08Z    49   \n",
       "\n",
       "                                               Title  \\\n",
       "0  SQLStatement.execute() - multiple queries in o...   \n",
       "1  Good branching and merging tutorials for Torto...   \n",
       "2                                  ASP.NET Site Maps   \n",
       "3                 Function for creating color wheels   \n",
       "4  Adding scripting functionality to .NET applica...   \n",
       "\n",
       "                                                Body  \n",
       "0  i 've write database generation script in sql ...  \n",
       "1  be there really good tutorial explain branchin...  \n",
       "2  have anyone get experience create sql-based as...  \n",
       "3  be something i 've pseudo-solved many time nev...  \n",
       "4  i have little game write in c use database as ...  "
      ]
     },
     "execution_count": 4,
     "metadata": {},
     "output_type": "execute_result"
    }
   ],
   "source": [
    "Questions.head()"
   ]
  },
  {
   "cell_type": "code",
   "execution_count": 5,
   "id": "6a22d735",
   "metadata": {},
   "outputs": [
    {
     "data": {
      "text/plain": [
       "Unnamed: 0       int64\n",
       "Id              object\n",
       "OwnerUserId     object\n",
       "CreationDate    object\n",
       "Score           object\n",
       "Title           object\n",
       "Body            object\n",
       "dtype: object"
      ]
     },
     "execution_count": 5,
     "metadata": {},
     "output_type": "execute_result"
    }
   ],
   "source": [
    "Questions.dtypes"
   ]
  },
  {
   "cell_type": "code",
   "execution_count": 6,
   "id": "e3102542",
   "metadata": {},
   "outputs": [],
   "source": [
    "def intify(string):\n",
    "    try:\n",
    "        return int(string)\n",
    "    except:\n",
    "        return None"
   ]
  },
  {
   "cell_type": "code",
   "execution_count": 7,
   "id": "4a0b18f9",
   "metadata": {},
   "outputs": [],
   "source": [
    "Questions[\"Score\"] = Questions[\"Score\"].apply(lambda x: intify(x))"
   ]
  },
  {
   "cell_type": "code",
   "execution_count": 9,
   "id": "98a069dd",
   "metadata": {},
   "outputs": [],
   "source": [
    "Questions.drop(Questions[Questions[\"Score\"] < 5].index, inplace = True)"
   ]
  },
  {
   "cell_type": "code",
   "execution_count": 8,
   "id": "7eba4855",
   "metadata": {},
   "outputs": [],
   "source": [
    "Questions.dropna(inplace = True)"
   ]
  },
  {
   "cell_type": "code",
   "execution_count": 10,
   "id": "1656c8b4",
   "metadata": {},
   "outputs": [
    {
     "data": {
      "text/plain": [
       "8.0"
      ]
     },
     "execution_count": 10,
     "metadata": {},
     "output_type": "execute_result"
    }
   ],
   "source": [
    "np.median(Questions[\"Score\"])"
   ]
  },
  {
   "cell_type": "code",
   "execution_count": 11,
   "id": "ad3f75be",
   "metadata": {},
   "outputs": [
    {
     "data": {
      "text/plain": [
       "(85919, 7)"
      ]
     },
     "execution_count": 11,
     "metadata": {},
     "output_type": "execute_result"
    }
   ],
   "source": [
    "Questions.shape"
   ]
  },
  {
   "cell_type": "code",
   "execution_count": 12,
   "id": "048abf97",
   "metadata": {},
   "outputs": [],
   "source": [
    "Tags = pd.read_csv(\"Filtered_tags.csv\")"
   ]
  },
  {
   "cell_type": "code",
   "execution_count": 13,
   "id": "43d34ae3",
   "metadata": {},
   "outputs": [],
   "source": [
    "tag_map = {\n",
    "    \"html5\":\"html\",\n",
    "    \"iphone\":\"ios\",\n",
    "    \"ruby-on-rails\":\"ruby\",\n",
    "    \"ruby-on-rails-3\":\"ruby\",\n",
    "    \"asp.net-mvc\":\"asp.net\",\n",
    "    \"xcode\":\"ios\",\n",
    "    \"vba\":\"excel\",\n",
    "    \"python-2.7\":\"python\",\n",
    "    \"css3\":\"css\",\n",
    "    \"excel-vba\":\"excel\",\n",
    "    \"sql-server-2008\":\"sql-server\",\n",
    "    \"visual-studio-2010\":\"visual-studio\",\n",
    "    \"google-maps\":\"google\",\n",
    "    \"google-chrome\":\"google\",\n",
    "    \"jsp\":\"java\",\n",
    "    \"python-3.x\":\"python\"\n",
    "}"
   ]
  },
  {
   "cell_type": "code",
   "execution_count": 14,
   "id": "2c9a1161",
   "metadata": {},
   "outputs": [],
   "source": [
    "def reset_tags(tag):\n",
    "    try:\n",
    "        return tag_map[tag]\n",
    "    except:\n",
    "        return tag"
   ]
  },
  {
   "cell_type": "code",
   "execution_count": 15,
   "id": "c4348156",
   "metadata": {},
   "outputs": [],
   "source": [
    "Tags[\"Tag\"] = Tags[\"Tag\"].apply(lambda x : reset_tags(x))"
   ]
  },
  {
   "cell_type": "code",
   "execution_count": 16,
   "id": "1db67e21",
   "metadata": {},
   "outputs": [
    {
     "data": {
      "text/plain": [
       "(1755529, 3)"
      ]
     },
     "execution_count": 16,
     "metadata": {},
     "output_type": "execute_result"
    }
   ],
   "source": [
    "Tags.shape"
   ]
  },
  {
   "cell_type": "code",
   "execution_count": 17,
   "id": "1958b595",
   "metadata": {},
   "outputs": [],
   "source": [
    "Tags = Tags[[\"Id\",\"Tag\"]]\n",
    "Tags = Tags.drop_duplicates()"
   ]
  },
  {
   "cell_type": "code",
   "execution_count": 18,
   "id": "1b1df863",
   "metadata": {},
   "outputs": [],
   "source": [
    "ids = list(set(Tags[\"Id\"]) & set(Questions[\"Id\"]))"
   ]
  },
  {
   "cell_type": "code",
   "execution_count": 19,
   "id": "28894635",
   "metadata": {},
   "outputs": [
    {
     "data": {
      "text/plain": [
       "34533"
      ]
     },
     "execution_count": 19,
     "metadata": {},
     "output_type": "execute_result"
    }
   ],
   "source": [
    "len(ids)"
   ]
  },
  {
   "cell_type": "code",
   "execution_count": 20,
   "id": "bf0750f6",
   "metadata": {},
   "outputs": [],
   "source": [
    "Tags.drop(Tags[~Tags[\"Id\"].isin(ids)].index, inplace = True)"
   ]
  },
  {
   "cell_type": "code",
   "execution_count": 21,
   "id": "ebbc14ad",
   "metadata": {},
   "outputs": [
    {
     "data": {
      "text/plain": [
       "(51617, 2)"
      ]
     },
     "execution_count": 21,
     "metadata": {},
     "output_type": "execute_result"
    }
   ],
   "source": [
    "Tags.shape"
   ]
  },
  {
   "cell_type": "code",
   "execution_count": 22,
   "id": "4f7e50d4",
   "metadata": {},
   "outputs": [],
   "source": [
    "tags_to_remove = Tags[\"Tag\"].value_counts()[Tags[\"Tag\"].value_counts() < 300].index"
   ]
  },
  {
   "cell_type": "code",
   "execution_count": 23,
   "id": "7ed833de",
   "metadata": {},
   "outputs": [],
   "source": [
    "Tags.drop(Tags[Tags[\"Tag\"].isin(tags_to_remove)].index, inplace = True)"
   ]
  },
  {
   "cell_type": "code",
   "execution_count": 24,
   "id": "37a50561",
   "metadata": {},
   "outputs": [],
   "source": [
    "Tags = Tags.groupby(\"Id\",as_index=False).agg(lambda x: ','.join(x))\n",
    "Tags[\"Tag\"] = Tags[\"Tag\"].apply(lambda x:x.split(','))"
   ]
  },
  {
   "cell_type": "code",
   "execution_count": 25,
   "id": "e3760ebc",
   "metadata": {},
   "outputs": [],
   "source": [
    "data = pd.merge(Questions,Tags,on=\"Id\")"
   ]
  },
  {
   "cell_type": "code",
   "execution_count": 26,
   "id": "4ab30ade",
   "metadata": {},
   "outputs": [
    {
     "data": {
      "text/plain": [
       "(32403, 8)"
      ]
     },
     "execution_count": 26,
     "metadata": {},
     "output_type": "execute_result"
    }
   ],
   "source": [
    "data.shape"
   ]
  },
  {
   "cell_type": "code",
   "execution_count": 27,
   "id": "1c5afd05",
   "metadata": {},
   "outputs": [],
   "source": [
    "data = data[[\"Title\",\"Body\",\"Tag\"]]"
   ]
  },
  {
   "cell_type": "code",
   "execution_count": 59,
   "id": "fee62e46",
   "metadata": {},
   "outputs": [],
   "source": [
    "Body = data[[\"Title\",\"Body\"]]\n",
    "Tag = data[\"Tag\"]"
   ]
  },
  {
   "cell_type": "code",
   "execution_count": 29,
   "id": "9a5bde33",
   "metadata": {},
   "outputs": [],
   "source": [
    "from sklearn.feature_extraction.text import TfidfVectorizer\n",
    "from sklearn.preprocessing import MultiLabelBinarizer\n",
    "from sklearn.model_selection import train_test_split, RepeatedKFold\n",
    "from sklearn.svm import LinearSVC\n",
    "from sklearn.multiclass import OneVsRestClassifier\n",
    "from sklearn.ensemble import AdaBoostClassifier,RandomForestClassifier\n",
    "from sklearn.neural_network import MLPClassifier\n",
    "from sklearn import tree\n",
    "from sklearn.linear_model import LogisticRegression\n",
    "from sklearn.ensemble import GradientBoostingClassifier\n",
    "from sklearn.metrics import precision_recall_fscore_support"
   ]
  },
  {
   "cell_type": "code",
   "execution_count": 30,
   "id": "09bdc820",
   "metadata": {},
   "outputs": [],
   "source": [
    "binarizer = MultiLabelBinarizer()"
   ]
  },
  {
   "cell_type": "code",
   "execution_count": 60,
   "id": "3f2472d6",
   "metadata": {},
   "outputs": [],
   "source": [
    "Tag = binarizer.fit_transform(Tag)"
   ]
  },
  {
   "cell_type": "code",
   "execution_count": 32,
   "id": "5984817f",
   "metadata": {},
   "outputs": [
    {
     "data": {
      "text/plain": [
       "40"
      ]
     },
     "execution_count": 32,
     "metadata": {},
     "output_type": "execute_result"
    }
   ],
   "source": [
    "len(binarizer.classes_)"
   ]
  },
  {
   "cell_type": "code",
   "execution_count": 33,
   "id": "543ca636",
   "metadata": {},
   "outputs": [],
   "source": [
    "Tag = pd.DataFrame(Tag,columns = binarizer.classes_)"
   ]
  },
  {
   "cell_type": "code",
   "execution_count": 34,
   "id": "57463e08",
   "metadata": {},
   "outputs": [
    {
     "data": {
      "text/html": [
       "<div>\n",
       "<style scoped>\n",
       "    .dataframe tbody tr th:only-of-type {\n",
       "        vertical-align: middle;\n",
       "    }\n",
       "\n",
       "    .dataframe tbody tr th {\n",
       "        vertical-align: top;\n",
       "    }\n",
       "\n",
       "    .dataframe thead th {\n",
       "        text-align: right;\n",
       "    }\n",
       "</style>\n",
       "<table border=\"1\" class=\"dataframe\">\n",
       "  <thead>\n",
       "    <tr style=\"text-align: right;\">\n",
       "      <th></th>\n",
       "      <th>Title</th>\n",
       "      <th>Body</th>\n",
       "      <th>Tag</th>\n",
       "    </tr>\n",
       "  </thead>\n",
       "  <tbody>\n",
       "    <tr>\n",
       "      <th>0</th>\n",
       "      <td>ASP.NET Site Maps</td>\n",
       "      <td>have anyone get experience create sql-based as...</td>\n",
       "      <td>[sql, asp.net]</td>\n",
       "    </tr>\n",
       "    <tr>\n",
       "      <th>1</th>\n",
       "      <td>Function for creating color wheels</td>\n",
       "      <td>be something i 've pseudo-solved many time nev...</td>\n",
       "      <td>[algorithm]</td>\n",
       "    </tr>\n",
       "    <tr>\n",
       "      <th>2</th>\n",
       "      <td>Adding scripting functionality to .NET applica...</td>\n",
       "      <td>i have little game write in c use database as ...</td>\n",
       "      <td>[c#, .net]</td>\n",
       "    </tr>\n",
       "    <tr>\n",
       "      <th>3</th>\n",
       "      <td>Should I use nested classes in this case?</td>\n",
       "      <td>i be work on collection of class use for video...</td>\n",
       "      <td>[c++]</td>\n",
       "    </tr>\n",
       "    <tr>\n",
       "      <th>4</th>\n",
       "      <td>Homegrown consumption of web services</td>\n",
       "      <td>i 've be write few web service for .net app no...</td>\n",
       "      <td>[.net]</td>\n",
       "    </tr>\n",
       "  </tbody>\n",
       "</table>\n",
       "</div>"
      ],
      "text/plain": [
       "                                               Title  \\\n",
       "0                                  ASP.NET Site Maps   \n",
       "1                 Function for creating color wheels   \n",
       "2  Adding scripting functionality to .NET applica...   \n",
       "3          Should I use nested classes in this case?   \n",
       "4              Homegrown consumption of web services   \n",
       "\n",
       "                                                Body             Tag  \n",
       "0  have anyone get experience create sql-based as...  [sql, asp.net]  \n",
       "1  be something i 've pseudo-solved many time nev...     [algorithm]  \n",
       "2  i have little game write in c use database as ...      [c#, .net]  \n",
       "3  i be work on collection of class use for video...           [c++]  \n",
       "4  i 've be write few web service for .net app no...          [.net]  "
      ]
     },
     "execution_count": 34,
     "metadata": {},
     "output_type": "execute_result"
    }
   ],
   "source": [
    "data.head()"
   ]
  },
  {
   "cell_type": "code",
   "execution_count": 120,
   "id": "7ddda5c1",
   "metadata": {},
   "outputs": [],
   "source": [
    "tfidf = TfidfVectorizer(max_features = 2000,ngram_range=(1,2), stop_words = 'english')"
   ]
  },
  {
   "cell_type": "code",
   "execution_count": 121,
   "id": "f46438fa",
   "metadata": {},
   "outputs": [],
   "source": [
    "Body_features = tfidf.fit_transform(Body[\"Body\"])"
   ]
  },
  {
   "cell_type": "code",
   "execution_count": 122,
   "id": "4c66cfdf",
   "metadata": {},
   "outputs": [],
   "source": [
    "Title_features = tfidf.fit_transform(Body[\"Title\"])"
   ]
  },
  {
   "cell_type": "code",
   "execution_count": null,
   "id": "83b40092",
   "metadata": {},
   "outputs": [],
   "source": []
  },
  {
   "cell_type": "code",
   "execution_count": 69,
   "id": "2d4c405d",
   "metadata": {},
   "outputs": [],
   "source": [
    "Body_features = pd.DataFrame(Body_features.toarray())\n",
    "Title_features = pd.DataFrame(Title_features.toarray())\n",
    "features = pd.concat([Title_features,Body_features], axis=1)"
   ]
  },
  {
   "cell_type": "code",
   "execution_count": null,
   "id": "38519134",
   "metadata": {},
   "outputs": [],
   "source": []
  },
  {
   "cell_type": "code",
   "execution_count": 147,
   "id": "6cbe658d",
   "metadata": {},
   "outputs": [],
   "source": [
    "X_train,X_test,Y_train,Y_test = train_test_split(features, Tag,test_size = 0.2,random_state = 0)\n",
    "X_train,X_val,Y_train,Y_val = train_test_split(X_train, Y_train,test_size = 0.2,random_state = 0)"
   ]
  },
  {
   "cell_type": "code",
   "execution_count": 71,
   "id": "0e69630a",
   "metadata": {},
   "outputs": [],
   "source": [
    "clf = OneVsRestClassifier(LinearSVC())"
   ]
  },
  {
   "cell_type": "code",
   "execution_count": 72,
   "id": "83983388",
   "metadata": {},
   "outputs": [
    {
     "data": {
      "text/plain": [
       "OneVsRestClassifier(estimator=LinearSVC())"
      ]
     },
     "execution_count": 72,
     "metadata": {},
     "output_type": "execute_result"
    }
   ],
   "source": [
    "clf.fit(X_train,Y_train)"
   ]
  },
  {
   "cell_type": "code",
   "execution_count": 73,
   "id": "3a60c2d8",
   "metadata": {},
   "outputs": [],
   "source": [
    "Y_pred = clf.predict(X_test)"
   ]
  },
  {
   "cell_type": "code",
   "execution_count": 74,
   "id": "44a14a83",
   "metadata": {},
   "outputs": [],
   "source": [
    "score = np.minimum(Y_test,Y_pred).sum(axis = 1) / np.maximum(Y_test,Y_pred).sum(axis = 1)"
   ]
  },
  {
   "cell_type": "code",
   "execution_count": 75,
   "id": "2fbe82a2",
   "metadata": {},
   "outputs": [
    {
     "name": "stdout",
     "output_type": "stream",
     "text": [
      "Score: 59.322378233811655\n"
     ]
    }
   ],
   "source": [
    "print(\"Score: \"+ str(score.mean()*100))"
   ]
  },
  {
   "cell_type": "code",
   "execution_count": 123,
   "id": "d698fa73",
   "metadata": {},
   "outputs": [
    {
     "data": {
      "text/plain": [
       "['TFIDF.sav']"
      ]
     },
     "execution_count": 123,
     "metadata": {},
     "output_type": "execute_result"
    }
   ],
   "source": [
    "import joblib\n",
    "joblib.dump(clf,filename = \"SVMClassifier.sav\")\n",
    "joblib.dump(binarizer,filename = \"Binarizer.sav\")\n",
    "joblib.dump(tfidf,filename = \"TFIDF.sav\")"
   ]
  },
  {
   "cell_type": "code",
   "execution_count": 100,
   "id": "b6731166",
   "metadata": {},
   "outputs": [],
   "source": [
    "title = \"saved tables not showing up in object explorer in java\"\n",
    "body = \"public static void main(string[] args)\"\n",
    "\n",
    "tt = tfidf.transform([title])\n",
    "bt = tfidf.transform([body])"
   ]
  },
  {
   "cell_type": "code",
   "execution_count": 101,
   "id": "e9173351",
   "metadata": {},
   "outputs": [],
   "source": [
    "tt = tt.toarray()"
   ]
  },
  {
   "cell_type": "code",
   "execution_count": 102,
   "id": "044f7572",
   "metadata": {},
   "outputs": [],
   "source": [
    "bt = bt.toarray()"
   ]
  },
  {
   "cell_type": "code",
   "execution_count": 103,
   "id": "8f81829a",
   "metadata": {},
   "outputs": [],
   "source": [
    "tt = tt.tolist()"
   ]
  },
  {
   "cell_type": "code",
   "execution_count": 104,
   "id": "5ca826bf",
   "metadata": {},
   "outputs": [],
   "source": [
    "bt = bt.tolist()"
   ]
  },
  {
   "cell_type": "code",
   "execution_count": 105,
   "id": "9c1ce8fd",
   "metadata": {},
   "outputs": [],
   "source": [
    "tt = tt[0]"
   ]
  },
  {
   "cell_type": "code",
   "execution_count": 106,
   "id": "b59d5df8",
   "metadata": {},
   "outputs": [],
   "source": [
    "bt = bt[0]"
   ]
  },
  {
   "cell_type": "code",
   "execution_count": 107,
   "id": "02ec7db8",
   "metadata": {},
   "outputs": [],
   "source": [
    "tt.extend(bt)"
   ]
  },
  {
   "cell_type": "code",
   "execution_count": 108,
   "id": "d697a82e",
   "metadata": {},
   "outputs": [
    {
     "data": {
      "text/plain": [
       "4000"
      ]
     },
     "execution_count": 108,
     "metadata": {},
     "output_type": "execute_result"
    }
   ],
   "source": [
    "len(tt)"
   ]
  },
  {
   "cell_type": "code",
   "execution_count": 112,
   "id": "26d0ce7f",
   "metadata": {},
   "outputs": [
    {
     "data": {
      "text/plain": [
       "0       0.0\n",
       "1       0.0\n",
       "2       0.0\n",
       "3       0.0\n",
       "4       0.0\n",
       "       ... \n",
       "1995    0.0\n",
       "1996    0.0\n",
       "1997    0.0\n",
       "1998    0.0\n",
       "1999    0.0\n",
       "Name: 15867, Length: 4000, dtype: float64"
      ]
     },
     "execution_count": 112,
     "metadata": {},
     "output_type": "execute_result"
    }
   ],
   "source": [
    "X_test.iloc[0]"
   ]
  },
  {
   "cell_type": "code",
   "execution_count": 114,
   "id": "bcab3358",
   "metadata": {},
   "outputs": [
    {
     "data": {
      "text/plain": [
       "array([[0, 0, 0, 0, 0, 0, 0, 0, 0, 0, 0, 0, 0, 0, 0, 0, 0, 0, 1, 0, 0, 0,\n",
       "        0, 0, 0, 0, 0, 0, 0, 0, 0, 0, 0, 0, 0, 0, 0, 0, 0, 0]])"
      ]
     },
     "execution_count": 114,
     "metadata": {},
     "output_type": "execute_result"
    }
   ],
   "source": [
    "clf.predict([X_test.iloc[0]])"
   ]
  },
  {
   "cell_type": "code",
   "execution_count": 124,
   "id": "d04b7bb5",
   "metadata": {},
   "outputs": [],
   "source": [
    "import joblib\n",
    "clf = joblib.load(\"SVMClassifier.sav\")\n",
    "binarizer = joblib.load(\"Binarizer.sav\")\n",
    "tfidf = joblib.load(\"TFIDF.sav\")\n",
    "\n",
    "def classify(title, body):\n",
    "    tt = tfidf.transform([title])\n",
    "    bt = tfidf.transform([body])\n",
    "    tt = tt.toarray().tolist()\n",
    "    bt = bt.toarray().tolist()\n",
    "    tt = tt[0]\n",
    "    tt.extend(bt[0])\n",
    "    res = clf.predict([tt])\n",
    "    return binarizer.inverse_transform(res)[0]"
   ]
  },
  {
   "cell_type": "code",
   "execution_count": 140,
   "id": "7937f93f",
   "metadata": {},
   "outputs": [
    {
     "data": {
      "text/plain": [
       "[('java',)]"
      ]
     },
     "execution_count": 140,
     "metadata": {},
     "output_type": "execute_result"
    }
   ],
   "source": [
    "classify(\"Adding entry to unordered map \", \"how to add entries to unordered map, i have key name value \\\"Eyad\\\" i want to add it as a new entry in my javascript c++ c++ c++ unordered map i tried map.insert(name,\\\"Eyad\\\")\")"
   ]
  },
  {
   "cell_type": "code",
   "execution_count": 155,
   "id": "33c6da69",
   "metadata": {},
   "outputs": [],
   "source": [
    "from tcn import TCN, tcn_full_summary\n",
    "from tensorflow.keras.layers import Input, Embedding, Dense, Dropout, SpatialDropout1D\n",
    "from tensorflow.keras.layers import concatenate, GlobalAveragePooling1D, GlobalMaxPooling1D\n",
    "from tensorflow.keras.models import Model\n",
    "\n",
    "def define_model(kernel_size = 3, activation='relu', input_dim = 4000, output_dim=40, max_length = 4000 ):\n",
    "    \n",
    "    inp = Input( shape=(max_length,))\n",
    "    x = Embedding(input_dim=input_dim, output_dim=output_dim, input_length=max_length)(inp)\n",
    "    x = SpatialDropout1D(0.1)(x)\n",
    "    \n",
    "    x = TCN(128,dilations = [1, 2, 4], return_sequences=True, activation = activation, name = 'tcn1')(x)\n",
    "    x = TCN(64,dilations = [1, 2, 4], return_sequences=True, activation = activation, name = 'tcn2')(x)\n",
    "    \n",
    "    avg_pool = GlobalAveragePooling1D()(x)\n",
    "    max_pool = GlobalMaxPooling1D()(x)\n",
    "    \n",
    "    conc = concatenate([avg_pool, max_pool])\n",
    "    conc = Dense(80, activation=\"relu\")(conc)\n",
    "    conc = Dropout(0.1)(conc)\n",
    "    outp = Dense(40, activation=\"softmax\")(conc)    \n",
    "\n",
    "    model = Model(inputs=inp, outputs=outp)\n",
    "    model.compile( loss = 'categorical_crossentropy', optimizer = 'adam', metrics = ['accuracy'])\n",
    "    \n",
    "    return model"
   ]
  },
  {
   "cell_type": "code",
   "execution_count": 156,
   "id": "5cf09c9b",
   "metadata": {},
   "outputs": [
    {
     "name": "stdout",
     "output_type": "stream",
     "text": [
      "Epoch 1/10\n",
      "649/649 [==============================] - 3933s 6s/step - loss: nan - accuracy: 0.0638 - val_loss: nan - val_accuracy: 0.0608\n",
      "Epoch 2/10\n",
      "649/649 [==============================] - 3767s 6s/step - loss: nan - accuracy: 0.0665 - val_loss: nan - val_accuracy: 0.0608\n",
      "Epoch 3/10\n",
      " 19/649 [..............................] - ETA: 55:15 - loss: nan - accuracy: 0.0658"
     ]
    },
    {
     "ename": "KeyboardInterrupt",
     "evalue": "",
     "output_type": "error",
     "traceback": [
      "\u001b[1;31m---------------------------------------------------------------------------\u001b[0m",
      "\u001b[1;31mKeyboardInterrupt\u001b[0m                         Traceback (most recent call last)",
      "\u001b[1;32m<ipython-input-156-fd63cfb4127d>\u001b[0m in \u001b[0;36m<module>\u001b[1;34m\u001b[0m\n\u001b[0;32m      5\u001b[0m                                              mode='auto', restore_best_weights=True)\n\u001b[0;32m      6\u001b[0m \u001b[0mmodel\u001b[0m \u001b[1;33m=\u001b[0m \u001b[0mdefine_model\u001b[0m\u001b[1;33m(\u001b[0m\u001b[1;36m3\u001b[0m\u001b[1;33m,\u001b[0m \u001b[0mactivation\u001b[0m\u001b[1;33m=\u001b[0m\u001b[1;34m'relu'\u001b[0m\u001b[1;33m,\u001b[0m \u001b[0minput_dim\u001b[0m\u001b[1;33m=\u001b[0m\u001b[1;36m4000\u001b[0m\u001b[1;33m,\u001b[0m \u001b[0mmax_length\u001b[0m\u001b[1;33m=\u001b[0m\u001b[1;36m4000\u001b[0m\u001b[1;33m)\u001b[0m\u001b[1;33m\u001b[0m\u001b[1;33m\u001b[0m\u001b[0m\n\u001b[1;32m----> 7\u001b[1;33m \u001b[0mmodel\u001b[0m\u001b[1;33m.\u001b[0m\u001b[0mfit\u001b[0m\u001b[1;33m(\u001b[0m\u001b[0mX_train\u001b[0m\u001b[1;33m,\u001b[0m \u001b[0mY_train\u001b[0m\u001b[1;33m,\u001b[0m \u001b[0mepochs\u001b[0m\u001b[1;33m=\u001b[0m\u001b[1;36m10\u001b[0m\u001b[1;33m,\u001b[0m \u001b[0mverbose\u001b[0m\u001b[1;33m=\u001b[0m\u001b[1;36m1\u001b[0m\u001b[1;33m,\u001b[0m \u001b[0mcallbacks\u001b[0m\u001b[1;33m=\u001b[0m\u001b[1;33m[\u001b[0m\u001b[0mcallbacks\u001b[0m\u001b[1;33m]\u001b[0m\u001b[1;33m,\u001b[0m \u001b[0mvalidation_data\u001b[0m\u001b[1;33m=\u001b[0m\u001b[1;33m(\u001b[0m\u001b[0mX_val\u001b[0m\u001b[1;33m,\u001b[0m \u001b[0mY_val\u001b[0m\u001b[1;33m)\u001b[0m\u001b[1;33m)\u001b[0m\u001b[1;33m\u001b[0m\u001b[1;33m\u001b[0m\u001b[0m\n\u001b[0m",
      "\u001b[1;32m~\\.conda\\envs\\computervision\\lib\\site-packages\\keras\\engine\\training.py\u001b[0m in \u001b[0;36mfit\u001b[1;34m(self, x, y, batch_size, epochs, verbose, callbacks, validation_split, validation_data, shuffle, class_weight, sample_weight, initial_epoch, steps_per_epoch, validation_steps, validation_batch_size, validation_freq, max_queue_size, workers, use_multiprocessing)\u001b[0m\n\u001b[0;32m   1182\u001b[0m                 _r=1):\n\u001b[0;32m   1183\u001b[0m               \u001b[0mcallbacks\u001b[0m\u001b[1;33m.\u001b[0m\u001b[0mon_train_batch_begin\u001b[0m\u001b[1;33m(\u001b[0m\u001b[0mstep\u001b[0m\u001b[1;33m)\u001b[0m\u001b[1;33m\u001b[0m\u001b[1;33m\u001b[0m\u001b[0m\n\u001b[1;32m-> 1184\u001b[1;33m               \u001b[0mtmp_logs\u001b[0m \u001b[1;33m=\u001b[0m \u001b[0mself\u001b[0m\u001b[1;33m.\u001b[0m\u001b[0mtrain_function\u001b[0m\u001b[1;33m(\u001b[0m\u001b[0miterator\u001b[0m\u001b[1;33m)\u001b[0m\u001b[1;33m\u001b[0m\u001b[1;33m\u001b[0m\u001b[0m\n\u001b[0m\u001b[0;32m   1185\u001b[0m               \u001b[1;32mif\u001b[0m \u001b[0mdata_handler\u001b[0m\u001b[1;33m.\u001b[0m\u001b[0mshould_sync\u001b[0m\u001b[1;33m:\u001b[0m\u001b[1;33m\u001b[0m\u001b[1;33m\u001b[0m\u001b[0m\n\u001b[0;32m   1186\u001b[0m                 \u001b[0mcontext\u001b[0m\u001b[1;33m.\u001b[0m\u001b[0masync_wait\u001b[0m\u001b[1;33m(\u001b[0m\u001b[1;33m)\u001b[0m\u001b[1;33m\u001b[0m\u001b[1;33m\u001b[0m\u001b[0m\n",
      "\u001b[1;32m~\\.conda\\envs\\computervision\\lib\\site-packages\\tensorflow\\python\\eager\\def_function.py\u001b[0m in \u001b[0;36m__call__\u001b[1;34m(self, *args, **kwds)\u001b[0m\n\u001b[0;32m    883\u001b[0m \u001b[1;33m\u001b[0m\u001b[0m\n\u001b[0;32m    884\u001b[0m       \u001b[1;32mwith\u001b[0m \u001b[0mOptionalXlaContext\u001b[0m\u001b[1;33m(\u001b[0m\u001b[0mself\u001b[0m\u001b[1;33m.\u001b[0m\u001b[0m_jit_compile\u001b[0m\u001b[1;33m)\u001b[0m\u001b[1;33m:\u001b[0m\u001b[1;33m\u001b[0m\u001b[1;33m\u001b[0m\u001b[0m\n\u001b[1;32m--> 885\u001b[1;33m         \u001b[0mresult\u001b[0m \u001b[1;33m=\u001b[0m \u001b[0mself\u001b[0m\u001b[1;33m.\u001b[0m\u001b[0m_call\u001b[0m\u001b[1;33m(\u001b[0m\u001b[1;33m*\u001b[0m\u001b[0margs\u001b[0m\u001b[1;33m,\u001b[0m \u001b[1;33m**\u001b[0m\u001b[0mkwds\u001b[0m\u001b[1;33m)\u001b[0m\u001b[1;33m\u001b[0m\u001b[1;33m\u001b[0m\u001b[0m\n\u001b[0m\u001b[0;32m    886\u001b[0m \u001b[1;33m\u001b[0m\u001b[0m\n\u001b[0;32m    887\u001b[0m       \u001b[0mnew_tracing_count\u001b[0m \u001b[1;33m=\u001b[0m \u001b[0mself\u001b[0m\u001b[1;33m.\u001b[0m\u001b[0mexperimental_get_tracing_count\u001b[0m\u001b[1;33m(\u001b[0m\u001b[1;33m)\u001b[0m\u001b[1;33m\u001b[0m\u001b[1;33m\u001b[0m\u001b[0m\n",
      "\u001b[1;32m~\\.conda\\envs\\computervision\\lib\\site-packages\\tensorflow\\python\\eager\\def_function.py\u001b[0m in \u001b[0;36m_call\u001b[1;34m(self, *args, **kwds)\u001b[0m\n\u001b[0;32m    915\u001b[0m       \u001b[1;31m# In this case we have created variables on the first call, so we run the\u001b[0m\u001b[1;33m\u001b[0m\u001b[1;33m\u001b[0m\u001b[1;33m\u001b[0m\u001b[0m\n\u001b[0;32m    916\u001b[0m       \u001b[1;31m# defunned version which is guaranteed to never create variables.\u001b[0m\u001b[1;33m\u001b[0m\u001b[1;33m\u001b[0m\u001b[1;33m\u001b[0m\u001b[0m\n\u001b[1;32m--> 917\u001b[1;33m       \u001b[1;32mreturn\u001b[0m \u001b[0mself\u001b[0m\u001b[1;33m.\u001b[0m\u001b[0m_stateless_fn\u001b[0m\u001b[1;33m(\u001b[0m\u001b[1;33m*\u001b[0m\u001b[0margs\u001b[0m\u001b[1;33m,\u001b[0m \u001b[1;33m**\u001b[0m\u001b[0mkwds\u001b[0m\u001b[1;33m)\u001b[0m  \u001b[1;31m# pylint: disable=not-callable\u001b[0m\u001b[1;33m\u001b[0m\u001b[1;33m\u001b[0m\u001b[0m\n\u001b[0m\u001b[0;32m    918\u001b[0m     \u001b[1;32melif\u001b[0m \u001b[0mself\u001b[0m\u001b[1;33m.\u001b[0m\u001b[0m_stateful_fn\u001b[0m \u001b[1;32mis\u001b[0m \u001b[1;32mnot\u001b[0m \u001b[1;32mNone\u001b[0m\u001b[1;33m:\u001b[0m\u001b[1;33m\u001b[0m\u001b[1;33m\u001b[0m\u001b[0m\n\u001b[0;32m    919\u001b[0m       \u001b[1;31m# Release the lock early so that multiple threads can perform the call\u001b[0m\u001b[1;33m\u001b[0m\u001b[1;33m\u001b[0m\u001b[1;33m\u001b[0m\u001b[0m\n",
      "\u001b[1;32m~\\.conda\\envs\\computervision\\lib\\site-packages\\tensorflow\\python\\eager\\function.py\u001b[0m in \u001b[0;36m__call__\u001b[1;34m(self, *args, **kwargs)\u001b[0m\n\u001b[0;32m   3038\u001b[0m        filtered_flat_args) = self._maybe_define_function(args, kwargs)\n\u001b[0;32m   3039\u001b[0m     return graph_function._call_flat(\n\u001b[1;32m-> 3040\u001b[1;33m         filtered_flat_args, captured_inputs=graph_function.captured_inputs)  # pylint: disable=protected-access\n\u001b[0m\u001b[0;32m   3041\u001b[0m \u001b[1;33m\u001b[0m\u001b[0m\n\u001b[0;32m   3042\u001b[0m   \u001b[1;33m@\u001b[0m\u001b[0mproperty\u001b[0m\u001b[1;33m\u001b[0m\u001b[1;33m\u001b[0m\u001b[0m\n",
      "\u001b[1;32m~\\.conda\\envs\\computervision\\lib\\site-packages\\tensorflow\\python\\eager\\function.py\u001b[0m in \u001b[0;36m_call_flat\u001b[1;34m(self, args, captured_inputs, cancellation_manager)\u001b[0m\n\u001b[0;32m   1962\u001b[0m       \u001b[1;31m# No tape is watching; skip to running the function.\u001b[0m\u001b[1;33m\u001b[0m\u001b[1;33m\u001b[0m\u001b[1;33m\u001b[0m\u001b[0m\n\u001b[0;32m   1963\u001b[0m       return self._build_call_outputs(self._inference_function.call(\n\u001b[1;32m-> 1964\u001b[1;33m           ctx, args, cancellation_manager=cancellation_manager))\n\u001b[0m\u001b[0;32m   1965\u001b[0m     forward_backward = self._select_forward_and_backward_functions(\n\u001b[0;32m   1966\u001b[0m         \u001b[0margs\u001b[0m\u001b[1;33m,\u001b[0m\u001b[1;33m\u001b[0m\u001b[1;33m\u001b[0m\u001b[0m\n",
      "\u001b[1;32m~\\.conda\\envs\\computervision\\lib\\site-packages\\tensorflow\\python\\eager\\function.py\u001b[0m in \u001b[0;36mcall\u001b[1;34m(self, ctx, args, cancellation_manager)\u001b[0m\n\u001b[0;32m    594\u001b[0m               \u001b[0minputs\u001b[0m\u001b[1;33m=\u001b[0m\u001b[0margs\u001b[0m\u001b[1;33m,\u001b[0m\u001b[1;33m\u001b[0m\u001b[1;33m\u001b[0m\u001b[0m\n\u001b[0;32m    595\u001b[0m               \u001b[0mattrs\u001b[0m\u001b[1;33m=\u001b[0m\u001b[0mattrs\u001b[0m\u001b[1;33m,\u001b[0m\u001b[1;33m\u001b[0m\u001b[1;33m\u001b[0m\u001b[0m\n\u001b[1;32m--> 596\u001b[1;33m               ctx=ctx)\n\u001b[0m\u001b[0;32m    597\u001b[0m         \u001b[1;32melse\u001b[0m\u001b[1;33m:\u001b[0m\u001b[1;33m\u001b[0m\u001b[1;33m\u001b[0m\u001b[0m\n\u001b[0;32m    598\u001b[0m           outputs = execute.execute_with_cancellation(\n",
      "\u001b[1;32m~\\.conda\\envs\\computervision\\lib\\site-packages\\tensorflow\\python\\eager\\execute.py\u001b[0m in \u001b[0;36mquick_execute\u001b[1;34m(op_name, num_outputs, inputs, attrs, ctx, name)\u001b[0m\n\u001b[0;32m     58\u001b[0m     \u001b[0mctx\u001b[0m\u001b[1;33m.\u001b[0m\u001b[0mensure_initialized\u001b[0m\u001b[1;33m(\u001b[0m\u001b[1;33m)\u001b[0m\u001b[1;33m\u001b[0m\u001b[1;33m\u001b[0m\u001b[0m\n\u001b[0;32m     59\u001b[0m     tensors = pywrap_tfe.TFE_Py_Execute(ctx._handle, device_name, op_name,\n\u001b[1;32m---> 60\u001b[1;33m                                         inputs, attrs, num_outputs)\n\u001b[0m\u001b[0;32m     61\u001b[0m   \u001b[1;32mexcept\u001b[0m \u001b[0mcore\u001b[0m\u001b[1;33m.\u001b[0m\u001b[0m_NotOkStatusException\u001b[0m \u001b[1;32mas\u001b[0m \u001b[0me\u001b[0m\u001b[1;33m:\u001b[0m\u001b[1;33m\u001b[0m\u001b[1;33m\u001b[0m\u001b[0m\n\u001b[0;32m     62\u001b[0m     \u001b[1;32mif\u001b[0m \u001b[0mname\u001b[0m \u001b[1;32mis\u001b[0m \u001b[1;32mnot\u001b[0m \u001b[1;32mNone\u001b[0m\u001b[1;33m:\u001b[0m\u001b[1;33m\u001b[0m\u001b[1;33m\u001b[0m\u001b[0m\n",
      "\u001b[1;31mKeyboardInterrupt\u001b[0m: "
     ]
    }
   ],
   "source": [
    "import tensorflow as tf\n",
    "model_0 = define_model( input_dim=4000, max_length=4000)\n",
    "callbacks = tf.keras.callbacks.EarlyStopping(monitor='val_accuracy', min_delta=0, \n",
    "                                             patience=10, verbose=2, \n",
    "                                             mode='auto', restore_best_weights=True)\n",
    "model = define_model(3, activation='relu', input_dim=4000, max_length=4000)\n",
    "model.fit(X_train, Y_train, epochs=10, verbose=1, callbacks=[callbacks], validation_data=(X_val, Y_val))"
   ]
  },
  {
   "cell_type": "code",
   "execution_count": null,
   "id": "8322907d",
   "metadata": {},
   "outputs": [],
   "source": [
    "# print(\"Compile model ...\")\n",
    "# estimator = KerasClassifier(build_fn=build_model, epochs=15, batch_size=128)\n",
    "# dummy_y_train = np_utils.to_categorical(train_y)\n",
    "# estimator.fit(xtrain_tfidf, dummy_y_train)"
   ]
  },
  {
   "cell_type": "code",
   "execution_count": null,
   "id": "bce0cfd6",
   "metadata": {},
   "outputs": [],
   "source": [
    "# predictions = estimator.predict(xvalid_tfidf)\n",
    "# y_pred = encoder.inverse_transform(predictions)\n",
    "# print(\"accuracy=\",metrics.accuracy_score(predictions, valid_y))\n",
    "# conf_matrix(valid_y, predictions, df[\"label\"])"
   ]
  }
 ],
 "metadata": {
  "kernelspec": {
   "display_name": "Python 3",
   "language": "python",
   "name": "python3"
  },
  "language_info": {
   "codemirror_mode": {
    "name": "ipython",
    "version": 3
   },
   "file_extension": ".py",
   "mimetype": "text/x-python",
   "name": "python",
   "nbconvert_exporter": "python",
   "pygments_lexer": "ipython3",
   "version": "3.6.13"
  }
 },
 "nbformat": 4,
 "nbformat_minor": 5
}
