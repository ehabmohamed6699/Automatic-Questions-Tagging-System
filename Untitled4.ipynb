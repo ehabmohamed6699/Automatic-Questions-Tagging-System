{
 "cells": [
  {
   "cell_type": "code",
   "execution_count": 3,
   "id": "9c5247d0",
   "metadata": {},
   "outputs": [],
   "source": [
    "import numpy as np\n",
    "import pandas as pd"
   ]
  },
  {
   "cell_type": "code",
   "execution_count": 4,
   "id": "6daa4509",
   "metadata": {},
   "outputs": [
    {
     "name": "stderr",
     "output_type": "stream",
     "text": [
      "C:\\Users\\beboz\\.conda\\envs\\computervision\\lib\\site-packages\\IPython\\core\\interactiveshell.py:3072: DtypeWarning: Columns (1,2,4) have mixed types.Specify dtype option on import or set low_memory=False.\n",
      "  interactivity=interactivity, compiler=compiler, result=result)\n"
     ]
    }
   ],
   "source": [
    "Questions = pd.read_csv(\"Preprocessed_questions.csv\")"
   ]
  },
  {
   "cell_type": "code",
   "execution_count": 5,
   "id": "b6b2c59f",
   "metadata": {},
   "outputs": [
    {
     "data": {
      "text/html": [
       "<div>\n",
       "<style scoped>\n",
       "    .dataframe tbody tr th:only-of-type {\n",
       "        vertical-align: middle;\n",
       "    }\n",
       "\n",
       "    .dataframe tbody tr th {\n",
       "        vertical-align: top;\n",
       "    }\n",
       "\n",
       "    .dataframe thead th {\n",
       "        text-align: right;\n",
       "    }\n",
       "</style>\n",
       "<table border=\"1\" class=\"dataframe\">\n",
       "  <thead>\n",
       "    <tr style=\"text-align: right;\">\n",
       "      <th></th>\n",
       "      <th>Unnamed: 0</th>\n",
       "      <th>Id</th>\n",
       "      <th>OwnerUserId</th>\n",
       "      <th>CreationDate</th>\n",
       "      <th>Score</th>\n",
       "      <th>Title</th>\n",
       "      <th>Body</th>\n",
       "    </tr>\n",
       "  </thead>\n",
       "  <tbody>\n",
       "    <tr>\n",
       "      <th>0</th>\n",
       "      <td>0</td>\n",
       "      <td>80</td>\n",
       "      <td>26</td>\n",
       "      <td>2008-08-01T13:57:07Z</td>\n",
       "      <td>26</td>\n",
       "      <td>SQLStatement.execute() - multiple queries in o...</td>\n",
       "      <td>i 've write database generation script in sql ...</td>\n",
       "    </tr>\n",
       "    <tr>\n",
       "      <th>1</th>\n",
       "      <td>1</td>\n",
       "      <td>90</td>\n",
       "      <td>58</td>\n",
       "      <td>2008-08-01T14:41:24Z</td>\n",
       "      <td>144</td>\n",
       "      <td>Good branching and merging tutorials for Torto...</td>\n",
       "      <td>be there really good tutorial explain branchin...</td>\n",
       "    </tr>\n",
       "    <tr>\n",
       "      <th>2</th>\n",
       "      <td>2</td>\n",
       "      <td>120</td>\n",
       "      <td>83</td>\n",
       "      <td>2008-08-01T15:50:08Z</td>\n",
       "      <td>21</td>\n",
       "      <td>ASP.NET Site Maps</td>\n",
       "      <td>have anyone get experience create sql-based as...</td>\n",
       "    </tr>\n",
       "    <tr>\n",
       "      <th>3</th>\n",
       "      <td>3</td>\n",
       "      <td>180</td>\n",
       "      <td>2.08974e+06</td>\n",
       "      <td>2008-08-01T18:42:19Z</td>\n",
       "      <td>53</td>\n",
       "      <td>Function for creating color wheels</td>\n",
       "      <td>be something i 've pseudo-solved many time nev...</td>\n",
       "    </tr>\n",
       "    <tr>\n",
       "      <th>4</th>\n",
       "      <td>4</td>\n",
       "      <td>260</td>\n",
       "      <td>91</td>\n",
       "      <td>2008-08-01T23:22:08Z</td>\n",
       "      <td>49</td>\n",
       "      <td>Adding scripting functionality to .NET applica...</td>\n",
       "      <td>i have little game write in c use database as ...</td>\n",
       "    </tr>\n",
       "  </tbody>\n",
       "</table>\n",
       "</div>"
      ],
      "text/plain": [
       "   Unnamed: 0   Id  OwnerUserId          CreationDate Score  \\\n",
       "0           0   80           26  2008-08-01T13:57:07Z    26   \n",
       "1           1   90           58  2008-08-01T14:41:24Z   144   \n",
       "2           2  120           83  2008-08-01T15:50:08Z    21   \n",
       "3           3  180  2.08974e+06  2008-08-01T18:42:19Z    53   \n",
       "4           4  260           91  2008-08-01T23:22:08Z    49   \n",
       "\n",
       "                                               Title  \\\n",
       "0  SQLStatement.execute() - multiple queries in o...   \n",
       "1  Good branching and merging tutorials for Torto...   \n",
       "2                                  ASP.NET Site Maps   \n",
       "3                 Function for creating color wheels   \n",
       "4  Adding scripting functionality to .NET applica...   \n",
       "\n",
       "                                                Body  \n",
       "0  i 've write database generation script in sql ...  \n",
       "1  be there really good tutorial explain branchin...  \n",
       "2  have anyone get experience create sql-based as...  \n",
       "3  be something i 've pseudo-solved many time nev...  \n",
       "4  i have little game write in c use database as ...  "
      ]
     },
     "execution_count": 5,
     "metadata": {},
     "output_type": "execute_result"
    }
   ],
   "source": [
    "Questions.head()"
   ]
  },
  {
   "cell_type": "code",
   "execution_count": 6,
   "id": "438b7d66",
   "metadata": {},
   "outputs": [],
   "source": [
    "def intify(string):\n",
    "    try:\n",
    "        return int(string)\n",
    "    except:\n",
    "        return None"
   ]
  },
  {
   "cell_type": "code",
   "execution_count": 7,
   "id": "8c378d0e",
   "metadata": {},
   "outputs": [],
   "source": [
    "Questions[\"Score\"] = Questions[\"Score\"].apply(lambda x: intify(x))"
   ]
  },
  {
   "cell_type": "code",
   "execution_count": 8,
   "id": "ee2966fc",
   "metadata": {},
   "outputs": [],
   "source": [
    "Questions.dropna(inplace = True)"
   ]
  },
  {
   "cell_type": "code",
   "execution_count": 9,
   "id": "e7ce5024",
   "metadata": {},
   "outputs": [],
   "source": [
    "Questions.drop(Questions[Questions[\"Score\"] < 5].index, inplace = True)"
   ]
  },
  {
   "cell_type": "code",
   "execution_count": 10,
   "id": "e0a6041d",
   "metadata": {},
   "outputs": [
    {
     "data": {
      "text/plain": [
       "8.0"
      ]
     },
     "execution_count": 10,
     "metadata": {},
     "output_type": "execute_result"
    }
   ],
   "source": [
    "np.median(Questions[\"Score\"])"
   ]
  },
  {
   "cell_type": "code",
   "execution_count": 11,
   "id": "761ca720",
   "metadata": {},
   "outputs": [],
   "source": [
    "Tags = pd.read_csv(\"Filtered_tags.csv\")"
   ]
  },
  {
   "cell_type": "code",
   "execution_count": 12,
   "id": "391fc6c8",
   "metadata": {},
   "outputs": [],
   "source": [
    "tag_map = {\n",
    "    \"html5\":\"html\",\n",
    "    \"iphone\":\"ios\",\n",
    "    \"ruby-on-rails\":\"ruby\",\n",
    "    \"ruby-on-rails-3\":\"ruby\",\n",
    "    \"asp.net-mvc\":\"asp.net\",\n",
    "    \"xcode\":\"ios\",\n",
    "    \"vba\":\"excel\",\n",
    "    \"python-2.7\":\"python\",\n",
    "    \"css3\":\"css\",\n",
    "    \"excel-vba\":\"excel\",\n",
    "    \"sql-server-2008\":\"sql-server\",\n",
    "    \"visual-studio-2010\":\"visual-studio\",\n",
    "    \"google-maps\":\"google\",\n",
    "    \"google-chrome\":\"google\",\n",
    "    \"jsp\":\"java\",\n",
    "    \"python-3.x\":\"python\"\n",
    "}"
   ]
  },
  {
   "cell_type": "code",
   "execution_count": 13,
   "id": "a67acd0e",
   "metadata": {},
   "outputs": [],
   "source": [
    "def reset_tags(tag):\n",
    "    try:\n",
    "        return tag_map[tag]\n",
    "    except:\n",
    "        return tag"
   ]
  },
  {
   "cell_type": "code",
   "execution_count": 14,
   "id": "1e9ba2e5",
   "metadata": {},
   "outputs": [],
   "source": [
    "Tags[\"Tag\"] = Tags[\"Tag\"].apply(lambda x : reset_tags(x))"
   ]
  },
  {
   "cell_type": "code",
   "execution_count": 15,
   "id": "6f788d8c",
   "metadata": {},
   "outputs": [],
   "source": [
    "Tags = Tags[[\"Id\",\"Tag\"]]\n",
    "Tags = Tags.drop_duplicates()"
   ]
  },
  {
   "cell_type": "code",
   "execution_count": 16,
   "id": "8298fb15",
   "metadata": {},
   "outputs": [],
   "source": [
    "ids = list(set(Tags[\"Id\"]) & set(Questions[\"Id\"]))"
   ]
  },
  {
   "cell_type": "code",
   "execution_count": 17,
   "id": "4a715684",
   "metadata": {},
   "outputs": [],
   "source": [
    "Tags.drop(Tags[~Tags[\"Id\"].isin(ids)].index, inplace = True)"
   ]
  },
  {
   "cell_type": "code",
   "execution_count": 18,
   "id": "0702f408",
   "metadata": {},
   "outputs": [],
   "source": [
    "tags_to_remove = Tags[\"Tag\"].value_counts()[Tags[\"Tag\"].value_counts() < 300].index"
   ]
  },
  {
   "cell_type": "code",
   "execution_count": 19,
   "id": "1ffe4228",
   "metadata": {},
   "outputs": [],
   "source": [
    "Tags.drop(Tags[Tags[\"Tag\"].isin(tags_to_remove)].index, inplace = True)"
   ]
  },
  {
   "cell_type": "code",
   "execution_count": 20,
   "id": "92ded353",
   "metadata": {},
   "outputs": [],
   "source": [
    "Tags = Tags.groupby(\"Id\",as_index=False).agg(lambda x: ','.join(x))\n",
    "Tags[\"Tag\"] = Tags[\"Tag\"].apply(lambda x:x.split(','))"
   ]
  },
  {
   "cell_type": "code",
   "execution_count": 21,
   "id": "67eab07c",
   "metadata": {},
   "outputs": [],
   "source": [
    "data = pd.merge(Questions,Tags,on=\"Id\")"
   ]
  },
  {
   "cell_type": "code",
   "execution_count": 22,
   "id": "8682b9e6",
   "metadata": {},
   "outputs": [],
   "source": [
    "data = data[[\"Title\",\"Body\",\"Tag\"]]"
   ]
  },
  {
   "cell_type": "code",
   "execution_count": 23,
   "id": "29604206",
   "metadata": {},
   "outputs": [
    {
     "data": {
      "text/html": [
       "<div>\n",
       "<style scoped>\n",
       "    .dataframe tbody tr th:only-of-type {\n",
       "        vertical-align: middle;\n",
       "    }\n",
       "\n",
       "    .dataframe tbody tr th {\n",
       "        vertical-align: top;\n",
       "    }\n",
       "\n",
       "    .dataframe thead th {\n",
       "        text-align: right;\n",
       "    }\n",
       "</style>\n",
       "<table border=\"1\" class=\"dataframe\">\n",
       "  <thead>\n",
       "    <tr style=\"text-align: right;\">\n",
       "      <th></th>\n",
       "      <th>Title</th>\n",
       "      <th>Body</th>\n",
       "      <th>Tag</th>\n",
       "    </tr>\n",
       "  </thead>\n",
       "  <tbody>\n",
       "    <tr>\n",
       "      <th>0</th>\n",
       "      <td>ASP.NET Site Maps</td>\n",
       "      <td>have anyone get experience create sql-based as...</td>\n",
       "      <td>[sql, asp.net]</td>\n",
       "    </tr>\n",
       "    <tr>\n",
       "      <th>1</th>\n",
       "      <td>Function for creating color wheels</td>\n",
       "      <td>be something i 've pseudo-solved many time nev...</td>\n",
       "      <td>[algorithm]</td>\n",
       "    </tr>\n",
       "    <tr>\n",
       "      <th>2</th>\n",
       "      <td>Adding scripting functionality to .NET applica...</td>\n",
       "      <td>i have little game write in c use database as ...</td>\n",
       "      <td>[c#, .net]</td>\n",
       "    </tr>\n",
       "    <tr>\n",
       "      <th>3</th>\n",
       "      <td>Should I use nested classes in this case?</td>\n",
       "      <td>i be work on collection of class use for video...</td>\n",
       "      <td>[c++]</td>\n",
       "    </tr>\n",
       "    <tr>\n",
       "      <th>4</th>\n",
       "      <td>Homegrown consumption of web services</td>\n",
       "      <td>i 've be write few web service for .net app no...</td>\n",
       "      <td>[.net]</td>\n",
       "    </tr>\n",
       "  </tbody>\n",
       "</table>\n",
       "</div>"
      ],
      "text/plain": [
       "                                               Title  \\\n",
       "0                                  ASP.NET Site Maps   \n",
       "1                 Function for creating color wheels   \n",
       "2  Adding scripting functionality to .NET applica...   \n",
       "3          Should I use nested classes in this case?   \n",
       "4              Homegrown consumption of web services   \n",
       "\n",
       "                                                Body             Tag  \n",
       "0  have anyone get experience create sql-based as...  [sql, asp.net]  \n",
       "1  be something i 've pseudo-solved many time nev...     [algorithm]  \n",
       "2  i have little game write in c use database as ...      [c#, .net]  \n",
       "3  i be work on collection of class use for video...           [c++]  \n",
       "4  i 've be write few web service for .net app no...          [.net]  "
      ]
     },
     "execution_count": 23,
     "metadata": {},
     "output_type": "execute_result"
    }
   ],
   "source": [
    "data.head()"
   ]
  },
  {
   "cell_type": "code",
   "execution_count": 24,
   "id": "996577d1",
   "metadata": {},
   "outputs": [],
   "source": [
    "Body = data[[\"Title\",\"Body\"]]\n",
    "Tag = data[\"Tag\"]"
   ]
  },
  {
   "cell_type": "code",
   "execution_count": 25,
   "id": "23c5ffce",
   "metadata": {},
   "outputs": [],
   "source": [
    "from sklearn.feature_extraction.text import TfidfVectorizer\n",
    "from sklearn.preprocessing import MultiLabelBinarizer\n",
    "from sklearn.model_selection import train_test_split, RepeatedKFold\n",
    "from sklearn.svm import LinearSVC\n",
    "from sklearn.multiclass import OneVsRestClassifier\n",
    "from sklearn.ensemble import AdaBoostClassifier,RandomForestClassifier\n",
    "from sklearn.neural_network import MLPClassifier\n",
    "from sklearn import tree\n",
    "from sklearn.linear_model import LogisticRegression\n",
    "from sklearn.ensemble import GradientBoostingClassifier\n",
    "from sklearn.metrics import precision_recall_fscore_support"
   ]
  },
  {
   "cell_type": "code",
   "execution_count": 26,
   "id": "9cc6b0c2",
   "metadata": {},
   "outputs": [],
   "source": [
    "binarizer = MultiLabelBinarizer()"
   ]
  },
  {
   "cell_type": "code",
   "execution_count": 27,
   "id": "9dff4631",
   "metadata": {},
   "outputs": [],
   "source": [
    "Tag = binarizer.fit_transform(Tag)"
   ]
  },
  {
   "cell_type": "code",
   "execution_count": 29,
   "id": "fdf9ec28",
   "metadata": {},
   "outputs": [
    {
     "data": {
      "text/plain": [
       "array([[0, 0, 0, ..., 0, 0, 0],\n",
       "       [0, 0, 1, ..., 0, 0, 0],\n",
       "       [1, 0, 0, ..., 0, 0, 0],\n",
       "       ...,\n",
       "       [0, 0, 0, ..., 0, 0, 0],\n",
       "       [0, 0, 0, ..., 0, 0, 0],\n",
       "       [0, 0, 0, ..., 0, 0, 0]])"
      ]
     },
     "execution_count": 29,
     "metadata": {},
     "output_type": "execute_result"
    }
   ],
   "source": [
    "Tag"
   ]
  },
  {
   "cell_type": "code",
   "execution_count": 30,
   "id": "eb07e188",
   "metadata": {},
   "outputs": [],
   "source": [
    "tfidf = TfidfVectorizer(max_features = 2000,ngram_range=(1,2), stop_words = 'english')"
   ]
  },
  {
   "cell_type": "code",
   "execution_count": 31,
   "id": "de73709c",
   "metadata": {},
   "outputs": [],
   "source": [
    "Body_features = tfidf.fit_transform(Body[\"Body\"])"
   ]
  },
  {
   "cell_type": "code",
   "execution_count": 32,
   "id": "6124b8c5",
   "metadata": {},
   "outputs": [],
   "source": [
    "X_train,X_test,Y_train,Y_test = train_test_split(Body_features, Tag,test_size = 0.2,random_state = 0)"
   ]
  },
  {
   "cell_type": "code",
   "execution_count": 33,
   "id": "d0ea2da7",
   "metadata": {},
   "outputs": [],
   "source": [
    "X_train,X_val,Y_train,Y_val = train_test_split(X_train, Y_train,test_size = 0.2,random_state = 0)\n"
   ]
  },
  {
   "cell_type": "code",
   "execution_count": 40,
   "id": "000d9ec5",
   "metadata": {},
   "outputs": [
    {
     "data": {
      "text/plain": [
       "(20737, 2000)"
      ]
     },
     "execution_count": 40,
     "metadata": {},
     "output_type": "execute_result"
    }
   ],
   "source": [
    "X_train.shape"
   ]
  },
  {
   "cell_type": "code",
   "execution_count": 41,
   "id": "78831046",
   "metadata": {},
   "outputs": [
    {
     "data": {
      "text/plain": [
       "(20737, 40)"
      ]
     },
     "execution_count": 41,
     "metadata": {},
     "output_type": "execute_result"
    }
   ],
   "source": [
    "Y_train.shape"
   ]
  },
  {
   "cell_type": "code",
   "execution_count": null,
   "id": "2d0e0c14",
   "metadata": {},
   "outputs": [],
   "source": []
  },
  {
   "cell_type": "code",
   "execution_count": 54,
   "id": "601080ef",
   "metadata": {},
   "outputs": [],
   "source": [
    "# import tensorflow as tf\n",
    "\n",
    "# # Convert Y_train to sorted sparse tensor\n",
    "# Y_train_sparse = tf.sparse.SparseTensor(\n",
    "#     indices=tf.cast(tf.stack([tf.range(len(Y_train)), Y_train], axis=1), tf.int64),\n",
    "#     values=tf.ones_like(Y_train, dtype=tf.float32),\n",
    "#     dense_shape=[len(Y_train), 40]\n",
    "# )\n",
    "# Y_train_sparse = tf.sparse.reorder(Y_train_sparse)\n",
    "\n",
    "# # Convert Y_val to sorted sparse tensor\n",
    "# Y_val_sparse = tf.sparse.SparseTensor(\n",
    "#     indices=tf.cast(tf.stack([tf.range(len(Y_val)), Y_val], axis=1), tf.int64),\n",
    "#     values=tf.ones_like(Y_val, dtype=tf.float32),\n",
    "#     dense_shape=[len(Y_val), num_classes]\n",
    "# )\n",
    "# Y_val_sparse = tf.sparse.reorder(Y_val_sparse)"
   ]
  },
  {
   "cell_type": "code",
   "execution_count": 56,
   "id": "c1e2e92f",
   "metadata": {},
   "outputs": [],
   "source": [
    "# from keras.models import Sequential\n",
    "# from keras.layers import Dense, Dropout\n",
    "\n",
    "# # Define the model architecture\n",
    "# model = Sequential()\n",
    "# model.add(Dense(512, activation='relu', input_shape=(2000,)))\n",
    "# model.add(Dropout(0.5))\n",
    "# model.add(Dense(256, activation='relu'))\n",
    "# model.add(Dropout(0.5))\n",
    "# model.add(Dense(128, activation='relu'))\n",
    "# model.add(Dense(40, activation='sigmoid'))\n",
    "\n",
    "# # Compile the model\n",
    "# model.compile(loss='binary_crossentropy', optimizer='adam', metrics=['accuracy'])\n",
    "\n",
    "# # Print the model summary\n",
    "# model.summary()\n",
    "\n"
   ]
  },
  {
   "cell_type": "code",
   "execution_count": 57,
   "id": "596a9b67",
   "metadata": {},
   "outputs": [],
   "source": [
    "# model.fit(X_train, Y_train_sparse, epochs=10, batch_size=32, validation_data=(X_val, Y_val_sparse), verbose=2)"
   ]
  },
  {
   "cell_type": "code",
   "execution_count": 59,
   "id": "ce476613",
   "metadata": {},
   "outputs": [],
   "source": [
    "import torch\n",
    "import torch.nn as nn\n",
    "import torch.nn.functional as F\n",
    "\n",
    "class MultiLabelClassifier(nn.Module):\n",
    "    def __init__(self, input_size, hidden_size, num_labels):\n",
    "        super(MultiLabelClassifier, self).__init__()\n",
    "        self.fc1 = nn.Linear(input_size, hidden_size)\n",
    "        self.fc2 = nn.Linear(hidden_size, hidden_size)\n",
    "        self.fc3 = nn.Linear(hidden_size, num_labels)\n",
    "\n",
    "    def forward(self, x):\n",
    "        x = F.relu(self.fc1(x))\n",
    "        x = F.relu(self.fc2(x))\n",
    "        x = torch.sigmoid(self.fc3(x)) # use sigmoid activation for multi-label classification\n",
    "        return x"
   ]
  },
  {
   "cell_type": "code",
   "execution_count": 60,
   "id": "9105847b",
   "metadata": {},
   "outputs": [],
   "source": [
    "model = MultiLabelClassifier(input_size=2000, hidden_size=512, num_labels=40)"
   ]
  },
  {
   "cell_type": "code",
   "execution_count": 83,
   "id": "f7ff1e08",
   "metadata": {},
   "outputs": [
    {
     "ename": "AttributeError",
     "evalue": "'numpy.ndarray' object has no attribute 'toarray'",
     "output_type": "error",
     "traceback": [
      "\u001b[1;31m---------------------------------------------------------------------------\u001b[0m",
      "\u001b[1;31mAttributeError\u001b[0m                            Traceback (most recent call last)",
      "\u001b[1;32m<ipython-input-83-a815ec1b6a5a>\u001b[0m in \u001b[0;36m<module>\u001b[1;34m\u001b[0m\n\u001b[0;32m     33\u001b[0m \u001b[1;33m\u001b[0m\u001b[0m\n\u001b[0;32m     34\u001b[0m     \u001b[1;31m# Compute the loss\u001b[0m\u001b[1;33m\u001b[0m\u001b[1;33m\u001b[0m\u001b[1;33m\u001b[0m\u001b[0m\n\u001b[1;32m---> 35\u001b[1;33m     \u001b[0mloss\u001b[0m \u001b[1;33m=\u001b[0m \u001b[0mcriterion\u001b[0m\u001b[1;33m(\u001b[0m\u001b[0moutputs\u001b[0m\u001b[1;33m,\u001b[0m \u001b[0mtorch\u001b[0m\u001b[1;33m.\u001b[0m\u001b[0mtensor\u001b[0m\u001b[1;33m(\u001b[0m\u001b[0mY_train\u001b[0m\u001b[1;33m.\u001b[0m\u001b[0mtoarray\u001b[0m\u001b[1;33m(\u001b[0m\u001b[1;33m)\u001b[0m\u001b[1;33m,\u001b[0m \u001b[0mdtype\u001b[0m \u001b[1;33m=\u001b[0m \u001b[0mtorch\u001b[0m\u001b[1;33m.\u001b[0m\u001b[0mfloat32\u001b[0m\u001b[1;33m)\u001b[0m\u001b[1;33m)\u001b[0m\u001b[1;33m\u001b[0m\u001b[1;33m\u001b[0m\u001b[0m\n\u001b[0m\u001b[0;32m     36\u001b[0m \u001b[1;33m\u001b[0m\u001b[0m\n\u001b[0;32m     37\u001b[0m     \u001b[1;31m# Backward pass\u001b[0m\u001b[1;33m\u001b[0m\u001b[1;33m\u001b[0m\u001b[1;33m\u001b[0m\u001b[0m\n",
      "\u001b[1;31mAttributeError\u001b[0m: 'numpy.ndarray' object has no attribute 'toarray'"
     ]
    }
   ],
   "source": [
    "import torch.optim as optim\n",
    "\n",
    "# Define the loss function and optimizer\n",
    "criterion = nn.BCELoss()\n",
    "optimizer = optim.SGD(model.parameters(), lr=0.1)\n",
    "\n",
    "import numpy as np\n",
    "import torch\n",
    "from torch.utils.data import TensorDataset, DataLoader\n",
    "\n",
    "# # Convert the arrays to PyTorch tensors\n",
    "# X_train_tensor = torch.from_numpy(X_train).float()\n",
    "# Y_train_tensor = torch.from_numpy(Y_train).float()\n",
    "\n",
    "# # Create a TensorDataset from the tensors\n",
    "# train_dataset = TensorDataset(X_train_tensor, Y_train_tensor)\n",
    "\n",
    "# # Define the batch size and create the DataLoader\n",
    "# batch_size = 32\n",
    "# train_loader = DataLoader(train_dataset, batch_size=batch_size, shuffle=True)\n",
    "\n",
    "\n",
    "# Train the model\n",
    "for epoch in range(10):\n",
    "    running_loss = 0.0\n",
    "    # Get the inputs and labels\n",
    "\n",
    "    # Zero the parameter gradients\n",
    "    optimizer.zero_grad()\n",
    "\n",
    "    # Forward pass\n",
    "    outputs = model(torch.tensor(X_train.toarray(), dtype = torch.float32))\n",
    "\n",
    "    # Compute the loss\n",
    "    loss = criterion(outputs, torch.tensor(Y_train.toarray(), dtype = torch.float32))\n",
    "\n",
    "    # Backward pass\n",
    "    loss.backward()\n",
    "\n",
    "    # Update the parameters\n",
    "    optimizer.step()\n",
    "\n",
    "    # Print statistics\n",
    "    running_loss += loss.item()"
   ]
  },
  {
   "cell_type": "code",
   "execution_count": null,
   "id": "7798ca1a",
   "metadata": {},
   "outputs": [],
   "source": []
  }
 ],
 "metadata": {
  "kernelspec": {
   "display_name": "Python 3",
   "language": "python",
   "name": "python3"
  },
  "language_info": {
   "codemirror_mode": {
    "name": "ipython",
    "version": 3
   },
   "file_extension": ".py",
   "mimetype": "text/x-python",
   "name": "python",
   "nbconvert_exporter": "python",
   "pygments_lexer": "ipython3",
   "version": "3.6.13"
  }
 },
 "nbformat": 4,
 "nbformat_minor": 5
}
