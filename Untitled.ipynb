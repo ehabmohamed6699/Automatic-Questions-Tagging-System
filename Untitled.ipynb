{
 "cells": [
  {
   "cell_type": "code",
   "execution_count": 1,
   "id": "0056b2e0",
   "metadata": {},
   "outputs": [],
   "source": [
    "import pandas as pd"
   ]
  },
  {
   "cell_type": "code",
   "execution_count": 60,
   "id": "72261318",
   "metadata": {},
   "outputs": [
    {
     "name": "stderr",
     "output_type": "stream",
     "text": [
      "C:\\Users\\beboz\\.conda\\envs\\computervision\\lib\\site-packages\\IPython\\core\\interactiveshell.py:3072: DtypeWarning: Columns (1,2,4) have mixed types.Specify dtype option on import or set low_memory=False.\n",
      "  interactivity=interactivity, compiler=compiler, result=result)\n"
     ]
    }
   ],
   "source": [
    "try:\n",
    "    Answers = pd.read_csv('Preprocessed_answers.csv')\n",
    "except:\n",
    "    Answers = pd.read_csv(\"Preprocessed_answers.csv\",encoding = \"ISO-8859-1\")\n",
    "try:\n",
    "    Questions = pd.read_csv('Preprocessed_questions.csv')\n",
    "except:\n",
    "    Questions = pd.read_csv(\"Preprocessed_questions.csv\",encoding = \"ISO-8859-1\")"
   ]
  },
  {
   "cell_type": "code",
   "execution_count": 61,
   "id": "c00b7166",
   "metadata": {},
   "outputs": [
    {
     "data": {
      "text/html": [
       "<div>\n",
       "<style scoped>\n",
       "    .dataframe tbody tr th:only-of-type {\n",
       "        vertical-align: middle;\n",
       "    }\n",
       "\n",
       "    .dataframe tbody tr th {\n",
       "        vertical-align: top;\n",
       "    }\n",
       "\n",
       "    .dataframe thead th {\n",
       "        text-align: right;\n",
       "    }\n",
       "</style>\n",
       "<table border=\"1\" class=\"dataframe\">\n",
       "  <thead>\n",
       "    <tr style=\"text-align: right;\">\n",
       "      <th></th>\n",
       "      <th>Unnamed: 0</th>\n",
       "      <th>ParentId</th>\n",
       "      <th>Score</th>\n",
       "      <th>Content</th>\n",
       "    </tr>\n",
       "  </thead>\n",
       "  <tbody>\n",
       "    <tr>\n",
       "      <th>0</th>\n",
       "      <td>0</td>\n",
       "      <td>90</td>\n",
       "      <td>13</td>\n",
       "      <td>version control with subversion very good reso...</td>\n",
       "    </tr>\n",
       "    <tr>\n",
       "      <th>1</th>\n",
       "      <td>1</td>\n",
       "      <td>80</td>\n",
       "      <td>12</td>\n",
       "      <td>i wind use be kind of hack actually work prett...</td>\n",
       "    </tr>\n",
       "    <tr>\n",
       "      <th>2</th>\n",
       "      <td>2</td>\n",
       "      <td>180</td>\n",
       "      <td>1</td>\n",
       "      <td>i 've read somewhere human eye n't distinguish...</td>\n",
       "    </tr>\n",
       "    <tr>\n",
       "      <th>3</th>\n",
       "      <td>3</td>\n",
       "      <td>260</td>\n",
       "      <td>4</td>\n",
       "      <td>i think about i soon figure that domain-specif...</td>\n",
       "    </tr>\n",
       "    <tr>\n",
       "      <th>4</th>\n",
       "      <td>4</td>\n",
       "      <td>260</td>\n",
       "      <td>28</td>\n",
       "      <td>oleg shilo c script solution at code project r...</td>\n",
       "    </tr>\n",
       "  </tbody>\n",
       "</table>\n",
       "</div>"
      ],
      "text/plain": [
       "   Unnamed: 0  ParentId  Score  \\\n",
       "0           0        90     13   \n",
       "1           1        80     12   \n",
       "2           2       180      1   \n",
       "3           3       260      4   \n",
       "4           4       260     28   \n",
       "\n",
       "                                             Content  \n",
       "0  version control with subversion very good reso...  \n",
       "1  i wind use be kind of hack actually work prett...  \n",
       "2  i 've read somewhere human eye n't distinguish...  \n",
       "3  i think about i soon figure that domain-specif...  \n",
       "4  oleg shilo c script solution at code project r...  "
      ]
     },
     "execution_count": 61,
     "metadata": {},
     "output_type": "execute_result"
    }
   ],
   "source": [
    "Answers.head()"
   ]
  },
  {
   "cell_type": "code",
   "execution_count": 62,
   "id": "700b058b",
   "metadata": {},
   "outputs": [
    {
     "data": {
      "text/html": [
       "<div>\n",
       "<style scoped>\n",
       "    .dataframe tbody tr th:only-of-type {\n",
       "        vertical-align: middle;\n",
       "    }\n",
       "\n",
       "    .dataframe tbody tr th {\n",
       "        vertical-align: top;\n",
       "    }\n",
       "\n",
       "    .dataframe thead th {\n",
       "        text-align: right;\n",
       "    }\n",
       "</style>\n",
       "<table border=\"1\" class=\"dataframe\">\n",
       "  <thead>\n",
       "    <tr style=\"text-align: right;\">\n",
       "      <th></th>\n",
       "      <th>Unnamed: 0</th>\n",
       "      <th>Id</th>\n",
       "      <th>OwnerUserId</th>\n",
       "      <th>CreationDate</th>\n",
       "      <th>Score</th>\n",
       "      <th>Title</th>\n",
       "      <th>Body</th>\n",
       "    </tr>\n",
       "  </thead>\n",
       "  <tbody>\n",
       "    <tr>\n",
       "      <th>0</th>\n",
       "      <td>0</td>\n",
       "      <td>80</td>\n",
       "      <td>26</td>\n",
       "      <td>2008-08-01T13:57:07Z</td>\n",
       "      <td>26</td>\n",
       "      <td>SQLStatement.execute() - multiple queries in o...</td>\n",
       "      <td>i 've write database generation script in sql ...</td>\n",
       "    </tr>\n",
       "    <tr>\n",
       "      <th>1</th>\n",
       "      <td>1</td>\n",
       "      <td>90</td>\n",
       "      <td>58</td>\n",
       "      <td>2008-08-01T14:41:24Z</td>\n",
       "      <td>144</td>\n",
       "      <td>Good branching and merging tutorials for Torto...</td>\n",
       "      <td>be there really good tutorial explain branchin...</td>\n",
       "    </tr>\n",
       "    <tr>\n",
       "      <th>2</th>\n",
       "      <td>2</td>\n",
       "      <td>120</td>\n",
       "      <td>83</td>\n",
       "      <td>2008-08-01T15:50:08Z</td>\n",
       "      <td>21</td>\n",
       "      <td>ASP.NET Site Maps</td>\n",
       "      <td>have anyone get experience create sql-based as...</td>\n",
       "    </tr>\n",
       "    <tr>\n",
       "      <th>3</th>\n",
       "      <td>3</td>\n",
       "      <td>180</td>\n",
       "      <td>2.08974e+06</td>\n",
       "      <td>2008-08-01T18:42:19Z</td>\n",
       "      <td>53</td>\n",
       "      <td>Function for creating color wheels</td>\n",
       "      <td>be something i 've pseudo-solved many time nev...</td>\n",
       "    </tr>\n",
       "    <tr>\n",
       "      <th>4</th>\n",
       "      <td>4</td>\n",
       "      <td>260</td>\n",
       "      <td>91</td>\n",
       "      <td>2008-08-01T23:22:08Z</td>\n",
       "      <td>49</td>\n",
       "      <td>Adding scripting functionality to .NET applica...</td>\n",
       "      <td>i have little game write in c use database as ...</td>\n",
       "    </tr>\n",
       "  </tbody>\n",
       "</table>\n",
       "</div>"
      ],
      "text/plain": [
       "   Unnamed: 0   Id  OwnerUserId          CreationDate Score  \\\n",
       "0           0   80           26  2008-08-01T13:57:07Z    26   \n",
       "1           1   90           58  2008-08-01T14:41:24Z   144   \n",
       "2           2  120           83  2008-08-01T15:50:08Z    21   \n",
       "3           3  180  2.08974e+06  2008-08-01T18:42:19Z    53   \n",
       "4           4  260           91  2008-08-01T23:22:08Z    49   \n",
       "\n",
       "                                               Title  \\\n",
       "0  SQLStatement.execute() - multiple queries in o...   \n",
       "1  Good branching and merging tutorials for Torto...   \n",
       "2                                  ASP.NET Site Maps   \n",
       "3                 Function for creating color wheels   \n",
       "4  Adding scripting functionality to .NET applica...   \n",
       "\n",
       "                                                Body  \n",
       "0  i 've write database generation script in sql ...  \n",
       "1  be there really good tutorial explain branchin...  \n",
       "2  have anyone get experience create sql-based as...  \n",
       "3  be something i 've pseudo-solved many time nev...  \n",
       "4  i have little game write in c use database as ...  "
      ]
     },
     "execution_count": 62,
     "metadata": {},
     "output_type": "execute_result"
    }
   ],
   "source": [
    "Questions.head()"
   ]
  },
  {
   "cell_type": "code",
   "execution_count": 63,
   "id": "bbbfdd60",
   "metadata": {},
   "outputs": [],
   "source": [
    "Answers = Answers.iloc[:,1:]"
   ]
  },
  {
   "cell_type": "code",
   "execution_count": 64,
   "id": "402cea73",
   "metadata": {},
   "outputs": [],
   "source": [
    "Questions = Questions.iloc[:,1:]"
   ]
  },
  {
   "cell_type": "code",
   "execution_count": 65,
   "id": "3f5f23d6",
   "metadata": {},
   "outputs": [],
   "source": [
    "Answers[\"Id\"] = Answers[\"ParentId\"]"
   ]
  },
  {
   "cell_type": "code",
   "execution_count": 66,
   "id": "efcbb644",
   "metadata": {},
   "outputs": [],
   "source": [
    "Answers.drop(columns = [\"ParentId\"],inplace = True)"
   ]
  },
  {
   "cell_type": "code",
   "execution_count": 67,
   "id": "53ab4380",
   "metadata": {},
   "outputs": [],
   "source": [
    "Answers[\"AnswerScore\"] = Answers[\"Score\"]\n",
    "Answers.drop(columns = [\"Score\"],inplace = True)"
   ]
  },
  {
   "cell_type": "code",
   "execution_count": 68,
   "id": "359a456e",
   "metadata": {},
   "outputs": [
    {
     "name": "stdout",
     "output_type": "stream",
     "text": [
      "nan\n",
      "nan\n",
      "nan\n",
      "nan\n",
      "nan\n",
      "nan\n",
      "nan\n",
      "nan\n",
      "nan\n",
      "nan\n",
      "nan\n",
      "nan\n",
      "nan\n",
      "nan\n",
      "nan\n",
      "nan\n",
      "nan\n"
     ]
    }
   ],
   "source": [
    "for item in Answers[\"Content\"]:\n",
    "    if not isinstance(item, str):\n",
    "        print(item)"
   ]
  },
  {
   "cell_type": "code",
   "execution_count": 71,
   "id": "6b941112",
   "metadata": {},
   "outputs": [
    {
     "data": {
      "text/plain": [
       "Content        0\n",
       "Id             0\n",
       "AnswerScore    0\n",
       "dtype: int64"
      ]
     },
     "execution_count": 71,
     "metadata": {},
     "output_type": "execute_result"
    }
   ],
   "source": [
    "Answers.isnull().sum()"
   ]
  },
  {
   "cell_type": "code",
   "execution_count": 70,
   "id": "5f1a286e",
   "metadata": {},
   "outputs": [],
   "source": [
    "Answers.dropna(subset = ['Content'],inplace=True)"
   ]
  },
  {
   "cell_type": "code",
   "execution_count": 72,
   "id": "4f8769c3",
   "metadata": {},
   "outputs": [],
   "source": [
    "epochs = 0\n",
    "def merge(x):\n",
    "    global epochs\n",
    "    epochs += 1\n",
    "    if epochs % 100000 == 0:\n",
    "        print(epochs)\n",
    "    return ' '.join(x)"
   ]
  },
  {
   "cell_type": "code",
   "execution_count": 73,
   "id": "f342d0ae",
   "metadata": {},
   "outputs": [
    {
     "name": "stdout",
     "output_type": "stream",
     "text": [
      "100000\n",
      "200000\n",
      "300000\n",
      "400000\n",
      "500000\n"
     ]
    }
   ],
   "source": [
    "Answers['Content'] = Answers.groupby(['Id'])['Content'].transform(lambda x: merge(x))\n",
    "Answers = Answers.drop_duplicates()"
   ]
  },
  {
   "cell_type": "code",
   "execution_count": 74,
   "id": "f450895e",
   "metadata": {},
   "outputs": [
    {
     "data": {
      "text/html": [
       "<div>\n",
       "<style scoped>\n",
       "    .dataframe tbody tr th:only-of-type {\n",
       "        vertical-align: middle;\n",
       "    }\n",
       "\n",
       "    .dataframe tbody tr th {\n",
       "        vertical-align: top;\n",
       "    }\n",
       "\n",
       "    .dataframe thead th {\n",
       "        text-align: right;\n",
       "    }\n",
       "</style>\n",
       "<table border=\"1\" class=\"dataframe\">\n",
       "  <thead>\n",
       "    <tr style=\"text-align: right;\">\n",
       "      <th></th>\n",
       "      <th>Content</th>\n",
       "      <th>Id</th>\n",
       "      <th>AnswerScore</th>\n",
       "    </tr>\n",
       "  </thead>\n",
       "  <tbody>\n",
       "    <tr>\n",
       "      <th>0</th>\n",
       "      <td>version control with subversion very good reso...</td>\n",
       "      <td>90</td>\n",
       "      <td>13</td>\n",
       "    </tr>\n",
       "    <tr>\n",
       "      <th>1</th>\n",
       "      <td>i wind use be kind of hack actually work prett...</td>\n",
       "      <td>80</td>\n",
       "      <td>12</td>\n",
       "    </tr>\n",
       "    <tr>\n",
       "      <th>2</th>\n",
       "      <td>i 've read somewhere human eye n't distinguish...</td>\n",
       "      <td>180</td>\n",
       "      <td>1</td>\n",
       "    </tr>\n",
       "    <tr>\n",
       "      <th>3</th>\n",
       "      <td>i think about i soon figure that domain-specif...</td>\n",
       "      <td>260</td>\n",
       "      <td>4</td>\n",
       "    </tr>\n",
       "    <tr>\n",
       "      <th>4</th>\n",
       "      <td>i think about i soon figure that domain-specif...</td>\n",
       "      <td>260</td>\n",
       "      <td>28</td>\n",
       "    </tr>\n",
       "  </tbody>\n",
       "</table>\n",
       "</div>"
      ],
      "text/plain": [
       "                                             Content   Id  AnswerScore\n",
       "0  version control with subversion very good reso...   90           13\n",
       "1  i wind use be kind of hack actually work prett...   80           12\n",
       "2  i 've read somewhere human eye n't distinguish...  180            1\n",
       "3  i think about i soon figure that domain-specif...  260            4\n",
       "4  i think about i soon figure that domain-specif...  260           28"
      ]
     },
     "execution_count": 74,
     "metadata": {},
     "output_type": "execute_result"
    }
   ],
   "source": [
    "Answers.head()"
   ]
  },
  {
   "cell_type": "code",
   "execution_count": 84,
   "id": "20928ea4",
   "metadata": {},
   "outputs": [
    {
     "data": {
      "text/plain": [
       "\"i think about i soon figure that domain-specific-language dsl be bit too much essentially need interact with gamestate in possibly unpredictable way for example card have rule card enter play undead minion gain +3 attack against fly enemy except enemy be bless as trading card game be turn base gamestate manager fire onstagex event let card modify other card gamestate in way card need if i try create dsl i have implement rather large feature set possibly constantly update shift maintenance work part without actually remove 's i want stay with real .net language essentially be able just fire event let card manipulate gamestate in way within limit of code access security oleg shilo c script solution at code project really be great introduction provide script ability in application different approach be consider language be specifically build for script such as ironruby ironpython lua ironpython ironruby be available today for guide embed ironpython read embed ironpython script support in exist app in 10 easy step lua be scripting language commonly use in game there be lua compiler for .net available from codeplex http //www.codeplex.com/nua that codebase be great read if want learn about build compiler in .net different angle altogether be try powershell there be numerous example of embed powershell into application here 's thorough project on topic powershell tunnel be able use ironruby for otherwise i suggest have directory place precompiled assembly then have reference in db assembly class use reflection load proper assembly at runtime if really want compile at run-time use codedom then use reflection load dynamic assembly msdn article help use of dlr language provide way really easily host own scripting platform however do n't have use scripting language for use c compile with c code provider as long as load in own appdomain load unload heart content if do n't want use dlr use boo have interpreter consider script.net s project on codeplex with boo solution choose between compile script use interpreter boo make nice scripting language have flexible syntax extensible language via open compiler architecture script.net look nice too though easily extend language as well as open source project use very friendly compiler generator irony.net main application that division sell do something very similar provide client customisations mean that i n't post source have c application that load dynamic vb.net script although .net language be easily support vb be choose because customisation team come from asp background use .net codedom compile script from database use vb codedomprovider annoyingly default .net 2 if want support 3.5 feature need pass dictionary with compilerversion = v3.5 constructor use codedomprovider.compileassemblyfromsource method compile pass setting force compile in memory only result in hundred of assembly in memory put all dynamic class code together into single assembly recompile whole lot change have advantage that add flag compile on disk with pdb for 're test allow debug through dynamic code i suggest use luainterface as have fully implement lua appear that nua be not complete likely do not implement very useful functionality coroutines etc if want use of outside prepacked lua module i suggest use something along line of 1.5.x as oppose 2.x series build fully manage code not expose necessary c api next version of .net 5.0 have have lot of talk about open compiler as service make thing like direct script evaluation possible i 'm use luainterface1.3 + lua 5.0 for net1.1 application issue with boo be that everytime parse/compile/eval code on fly create set of boo class so get memory leak lua in other hand do not do so 's very very stable work wonderful i pass object from c lua backwards so far i havent put in prod yet seem very promising update i do have memory leak issue in prod use luainterface + lua 5.0 therefore i use lua 5.2 link directly into c with dllimport memory leak be inside luainterface library 5.2 from http //luabinaries.sourceforge.net http //sourceforge.net/projects/luabinaries/files/5.2/windows % 20libraries/dynamic/lua-5.2_win32_dll7_lib.zip/download once i do memory leak be go app be very stable\""
      ]
     },
     "execution_count": 84,
     "metadata": {},
     "output_type": "execute_result"
    }
   ],
   "source": [
    "Answers.iloc[4][\"Content\"]"
   ]
  },
  {
   "cell_type": "code",
   "execution_count": 85,
   "id": "d4874b27",
   "metadata": {},
   "outputs": [
    {
     "data": {
      "text/plain": [
       "\"i think about i soon figure that domain-specific-language dsl be bit too much essentially need interact with gamestate in possibly unpredictable way for example card have rule card enter play undead minion gain +3 attack against fly enemy except enemy be bless as trading card game be turn base gamestate manager fire onstagex event let card modify other card gamestate in way card need if i try create dsl i have implement rather large feature set possibly constantly update shift maintenance work part without actually remove 's i want stay with real .net language essentially be able just fire event let card manipulate gamestate in way within limit of code access security oleg shilo c script solution at code project really be great introduction provide script ability in application different approach be consider language be specifically build for script such as ironruby ironpython lua ironpython ironruby be available today for guide embed ironpython read embed ironpython script support in exist app in 10 easy step lua be scripting language commonly use in game there be lua compiler for .net available from codeplex http //www.codeplex.com/nua that codebase be great read if want learn about build compiler in .net different angle altogether be try powershell there be numerous example of embed powershell into application here 's thorough project on topic powershell tunnel be able use ironruby for otherwise i suggest have directory place precompiled assembly then have reference in db assembly class use reflection load proper assembly at runtime if really want compile at run-time use codedom then use reflection load dynamic assembly msdn article help use of dlr language provide way really easily host own scripting platform however do n't have use scripting language for use c compile with c code provider as long as load in own appdomain load unload heart content if do n't want use dlr use boo have interpreter consider script.net s project on codeplex with boo solution choose between compile script use interpreter boo make nice scripting language have flexible syntax extensible language via open compiler architecture script.net look nice too though easily extend language as well as open source project use very friendly compiler generator irony.net main application that division sell do something very similar provide client customisations mean that i n't post source have c application that load dynamic vb.net script although .net language be easily support vb be choose because customisation team come from asp background use .net codedom compile script from database use vb codedomprovider annoyingly default .net 2 if want support 3.5 feature need pass dictionary with compilerversion = v3.5 constructor use codedomprovider.compileassemblyfromsource method compile pass setting force compile in memory only result in hundred of assembly in memory put all dynamic class code together into single assembly recompile whole lot change have advantage that add flag compile on disk with pdb for 're test allow debug through dynamic code i suggest use luainterface as have fully implement lua appear that nua be not complete likely do not implement very useful functionality coroutines etc if want use of outside prepacked lua module i suggest use something along line of 1.5.x as oppose 2.x series build fully manage code not expose necessary c api next version of .net 5.0 have have lot of talk about open compiler as service make thing like direct script evaluation possible i 'm use luainterface1.3 + lua 5.0 for net1.1 application issue with boo be that everytime parse/compile/eval code on fly create set of boo class so get memory leak lua in other hand do not do so 's very very stable work wonderful i pass object from c lua backwards so far i havent put in prod yet seem very promising update i do have memory leak issue in prod use luainterface + lua 5.0 therefore i use lua 5.2 link directly into c with dllimport memory leak be inside luainterface library 5.2 from http //luabinaries.sourceforge.net http //sourceforge.net/projects/luabinaries/files/5.2/windows % 20libraries/dynamic/lua-5.2_win32_dll7_lib.zip/download once i do memory leak be go app be very stable\""
      ]
     },
     "execution_count": 85,
     "metadata": {},
     "output_type": "execute_result"
    }
   ],
   "source": [
    "Answers.iloc[3][\"Content\"]"
   ]
  },
  {
   "cell_type": "code",
   "execution_count": 88,
   "id": "1295b5f8",
   "metadata": {},
   "outputs": [],
   "source": [
    "Answers = Answers.drop_duplicates(subset='Id', keep=\"last\")"
   ]
  },
  {
   "cell_type": "code",
   "execution_count": 97,
   "id": "f2bf81a9",
   "metadata": {},
   "outputs": [
    {
     "data": {
      "text/html": [
       "<div>\n",
       "<style scoped>\n",
       "    .dataframe tbody tr th:only-of-type {\n",
       "        vertical-align: middle;\n",
       "    }\n",
       "\n",
       "    .dataframe tbody tr th {\n",
       "        vertical-align: top;\n",
       "    }\n",
       "\n",
       "    .dataframe thead th {\n",
       "        text-align: right;\n",
       "    }\n",
       "</style>\n",
       "<table border=\"1\" class=\"dataframe\">\n",
       "  <thead>\n",
       "    <tr style=\"text-align: right;\">\n",
       "      <th></th>\n",
       "      <th>Content</th>\n",
       "      <th>Id</th>\n",
       "      <th>AnswerScore</th>\n",
       "    </tr>\n",
       "  </thead>\n",
       "  <tbody>\n",
       "    <tr>\n",
       "      <th>8</th>\n",
       "      <td>'re do be fine do n't let people confuse if 'v...</td>\n",
       "      <td>470</td>\n",
       "      <td>8</td>\n",
       "    </tr>\n",
       "    <tr>\n",
       "      <th>20</th>\n",
       "      <td>i 'm partway solution with entry on msdn do n'...</td>\n",
       "      <td>810</td>\n",
       "      <td>4</td>\n",
       "    </tr>\n",
       "    <tr>\n",
       "      <th>29</th>\n",
       "      <td>use program handle find process have lock on f...</td>\n",
       "      <td>1040</td>\n",
       "      <td>11</td>\n",
       "    </tr>\n",
       "    <tr>\n",
       "      <th>57</th>\n",
       "      <td>be possible skip step of create empty database...</td>\n",
       "      <td>1600</td>\n",
       "      <td>2</td>\n",
       "    </tr>\n",
       "    <tr>\n",
       "      <th>66</th>\n",
       "      <td>rex i suspect good place start look be solutio...</td>\n",
       "      <td>1010</td>\n",
       "      <td>1</td>\n",
       "    </tr>\n",
       "  </tbody>\n",
       "</table>\n",
       "</div>"
      ],
      "text/plain": [
       "                                              Content    Id  AnswerScore\n",
       "8   're do be fine do n't let people confuse if 'v...   470            8\n",
       "20  i 'm partway solution with entry on msdn do n'...   810            4\n",
       "29  use program handle find process have lock on f...  1040           11\n",
       "57  be possible skip step of create empty database...  1600            2\n",
       "66  rex i suspect good place start look be solutio...  1010            1"
      ]
     },
     "execution_count": 97,
     "metadata": {},
     "output_type": "execute_result"
    }
   ],
   "source": [
    "Answers.head()"
   ]
  },
  {
   "cell_type": "code",
   "execution_count": 122,
   "id": "44c1b367",
   "metadata": {},
   "outputs": [],
   "source": [
    "Combined = pd.merge(Questions, Answers, on=\"Id\", how=\"left\")"
   ]
  },
  {
   "cell_type": "code",
   "execution_count": 123,
   "id": "d4d7c053",
   "metadata": {},
   "outputs": [
    {
     "data": {
      "text/html": [
       "<div>\n",
       "<style scoped>\n",
       "    .dataframe tbody tr th:only-of-type {\n",
       "        vertical-align: middle;\n",
       "    }\n",
       "\n",
       "    .dataframe tbody tr th {\n",
       "        vertical-align: top;\n",
       "    }\n",
       "\n",
       "    .dataframe thead th {\n",
       "        text-align: right;\n",
       "    }\n",
       "</style>\n",
       "<table border=\"1\" class=\"dataframe\">\n",
       "  <thead>\n",
       "    <tr style=\"text-align: right;\">\n",
       "      <th></th>\n",
       "      <th>Id</th>\n",
       "      <th>OwnerUserId</th>\n",
       "      <th>CreationDate</th>\n",
       "      <th>Score</th>\n",
       "      <th>Title</th>\n",
       "      <th>Body</th>\n",
       "      <th>Content</th>\n",
       "      <th>AnswerScore</th>\n",
       "    </tr>\n",
       "  </thead>\n",
       "  <tbody>\n",
       "    <tr>\n",
       "      <th>0</th>\n",
       "      <td>80</td>\n",
       "      <td>26</td>\n",
       "      <td>2008-08-01T13:57:07Z</td>\n",
       "      <td>26</td>\n",
       "      <td>SQLStatement.execute() - multiple queries in o...</td>\n",
       "      <td>i 've write database generation script in sql ...</td>\n",
       "      <td>i wind use be kind of hack actually work prett...</td>\n",
       "      <td>1.0</td>\n",
       "    </tr>\n",
       "    <tr>\n",
       "      <th>1</th>\n",
       "      <td>90</td>\n",
       "      <td>58</td>\n",
       "      <td>2008-08-01T14:41:24Z</td>\n",
       "      <td>144</td>\n",
       "      <td>Good branching and merging tutorials for Torto...</td>\n",
       "      <td>be there really good tutorial explain branchin...</td>\n",
       "      <td>version control with subversion very good reso...</td>\n",
       "      <td>19.0</td>\n",
       "    </tr>\n",
       "    <tr>\n",
       "      <th>2</th>\n",
       "      <td>120</td>\n",
       "      <td>83</td>\n",
       "      <td>2008-08-01T15:50:08Z</td>\n",
       "      <td>21</td>\n",
       "      <td>ASP.NET Site Maps</td>\n",
       "      <td>have anyone get experience create sql-based as...</td>\n",
       "      <td>jeff prosise version from msdn magazine work p...</td>\n",
       "      <td>9.0</td>\n",
       "    </tr>\n",
       "    <tr>\n",
       "      <th>3</th>\n",
       "      <td>180</td>\n",
       "      <td>2.08974e+06</td>\n",
       "      <td>2008-08-01T18:42:19Z</td>\n",
       "      <td>53</td>\n",
       "      <td>Function for creating color wheels</td>\n",
       "      <td>be something i 've pseudo-solved many time nev...</td>\n",
       "      <td>i 've read somewhere human eye n't distinguish...</td>\n",
       "      <td>0.0</td>\n",
       "    </tr>\n",
       "    <tr>\n",
       "      <th>4</th>\n",
       "      <td>260</td>\n",
       "      <td>91</td>\n",
       "      <td>2008-08-01T23:22:08Z</td>\n",
       "      <td>49</td>\n",
       "      <td>Adding scripting functionality to .NET applica...</td>\n",
       "      <td>i have little game write in c use database as ...</td>\n",
       "      <td>i think about i soon figure that domain-specif...</td>\n",
       "      <td>2.0</td>\n",
       "    </tr>\n",
       "  </tbody>\n",
       "</table>\n",
       "</div>"
      ],
      "text/plain": [
       "    Id  OwnerUserId          CreationDate Score  \\\n",
       "0   80           26  2008-08-01T13:57:07Z    26   \n",
       "1   90           58  2008-08-01T14:41:24Z   144   \n",
       "2  120           83  2008-08-01T15:50:08Z    21   \n",
       "3  180  2.08974e+06  2008-08-01T18:42:19Z    53   \n",
       "4  260           91  2008-08-01T23:22:08Z    49   \n",
       "\n",
       "                                               Title  \\\n",
       "0  SQLStatement.execute() - multiple queries in o...   \n",
       "1  Good branching and merging tutorials for Torto...   \n",
       "2                                  ASP.NET Site Maps   \n",
       "3                 Function for creating color wheels   \n",
       "4  Adding scripting functionality to .NET applica...   \n",
       "\n",
       "                                                Body  \\\n",
       "0  i 've write database generation script in sql ...   \n",
       "1  be there really good tutorial explain branchin...   \n",
       "2  have anyone get experience create sql-based as...   \n",
       "3  be something i 've pseudo-solved many time nev...   \n",
       "4  i have little game write in c use database as ...   \n",
       "\n",
       "                                             Content  AnswerScore  \n",
       "0  i wind use be kind of hack actually work prett...          1.0  \n",
       "1  version control with subversion very good reso...         19.0  \n",
       "2  jeff prosise version from msdn magazine work p...          9.0  \n",
       "3  i 've read somewhere human eye n't distinguish...          0.0  \n",
       "4  i think about i soon figure that domain-specif...          2.0  "
      ]
     },
     "execution_count": 123,
     "metadata": {},
     "output_type": "execute_result"
    }
   ],
   "source": [
    "Combined.head()"
   ]
  },
  {
   "cell_type": "code",
   "execution_count": 126,
   "id": "911f49ba",
   "metadata": {},
   "outputs": [
    {
     "data": {
      "text/plain": [
       "Id                   0\n",
       "OwnerUserId      13416\n",
       "CreationDate         0\n",
       "Score                0\n",
       "Title                0\n",
       "Body                 6\n",
       "Content              0\n",
       "AnswerScore     783592\n",
       "dtype: int64"
      ]
     },
     "execution_count": 126,
     "metadata": {},
     "output_type": "execute_result"
    }
   ],
   "source": [
    "Combined.isnull().sum()"
   ]
  },
  {
   "cell_type": "code",
   "execution_count": 125,
   "id": "e778d905",
   "metadata": {},
   "outputs": [],
   "source": [
    "Combined[\"Content\"].fillna(\"\",inplace = True)"
   ]
  },
  {
   "cell_type": "code",
   "execution_count": 127,
   "id": "3ef8853a",
   "metadata": {},
   "outputs": [
    {
     "data": {
      "text/plain": [
       "Id               object\n",
       "OwnerUserId      object\n",
       "CreationDate     object\n",
       "Score            object\n",
       "Title            object\n",
       "Body             object\n",
       "Content          object\n",
       "AnswerScore     float64\n",
       "dtype: object"
      ]
     },
     "execution_count": 127,
     "metadata": {},
     "output_type": "execute_result"
    }
   ],
   "source": [
    "Combined.dtypes"
   ]
  },
  {
   "cell_type": "code",
   "execution_count": 128,
   "id": "a50896dc",
   "metadata": {},
   "outputs": [],
   "source": [
    "Combined[\"Body\"] = Combined[\"Body\"] + \" \" + Combined[\"Content\"]"
   ]
  },
  {
   "cell_type": "code",
   "execution_count": 192,
   "id": "44ee99c8",
   "metadata": {},
   "outputs": [],
   "source": [
    "Tags = pd.read_csv(\"Tags.csv\")"
   ]
  },
  {
   "cell_type": "code",
   "execution_count": 193,
   "id": "e02cab7d",
   "metadata": {},
   "outputs": [],
   "source": [
    "classes = Tags[\"Tag\"].value_counts()[:100].index.tolist()"
   ]
  },
  {
   "cell_type": "markdown",
   "id": "329d916b",
   "metadata": {},
   "source": []
  },
  {
   "cell_type": "code",
   "execution_count": 182,
   "id": "9466dc49",
   "metadata": {},
   "outputs": [],
   "source": [
    "def filter(label):\n",
    "    for item in classes:\n",
    "        if label.lower() == item.lower():\n",
    "            return label\n",
    "    return None"
   ]
  },
  {
   "cell_type": "code",
   "execution_count": 196,
   "id": "9a4379c4",
   "metadata": {},
   "outputs": [
    {
     "data": {
      "text/plain": [
       "Id           0\n",
       "Tag    1995465\n",
       "dtype: int64"
      ]
     },
     "execution_count": 196,
     "metadata": {},
     "output_type": "execute_result"
    }
   ],
   "source": [
    "Tags.isnull().sum()"
   ]
  },
  {
   "cell_type": "code",
   "execution_count": 197,
   "id": "4c4fa427",
   "metadata": {},
   "outputs": [
    {
     "data": {
      "text/plain": [
       "['javascript',\n",
       " 'java',\n",
       " 'c#',\n",
       " 'php',\n",
       " 'android',\n",
       " 'jquery',\n",
       " 'python',\n",
       " 'html',\n",
       " 'c++',\n",
       " 'ios',\n",
       " 'mysql',\n",
       " 'css',\n",
       " 'sql',\n",
       " 'asp.net',\n",
       " 'objective-c',\n",
       " 'ruby-on-rails',\n",
       " '.net',\n",
       " 'c',\n",
       " 'iphone',\n",
       " 'angularjs',\n",
       " 'arrays',\n",
       " 'sql-server',\n",
       " 'json',\n",
       " 'ruby',\n",
       " 'r',\n",
       " 'ajax',\n",
       " 'regex',\n",
       " 'xml',\n",
       " 'node.js',\n",
       " 'asp.net-mvc',\n",
       " 'linux',\n",
       " 'django',\n",
       " 'wpf',\n",
       " 'database',\n",
       " 'swift',\n",
       " 'xcode',\n",
       " 'string',\n",
       " 'excel',\n",
       " 'vb.net',\n",
       " 'windows',\n",
       " 'spring',\n",
       " 'wordpress',\n",
       " 'eclipse',\n",
       " 'html5',\n",
       " 'multithreading',\n",
       " 'oracle',\n",
       " 'git',\n",
       " 'facebook',\n",
       " 'forms',\n",
       " 'bash',\n",
       " 'image',\n",
       " 'osx',\n",
       " 'twitter-bootstrap',\n",
       " 'mongodb',\n",
       " 'winforms',\n",
       " 'vba',\n",
       " 'algorithm',\n",
       " 'apache',\n",
       " 'performance',\n",
       " 'matlab',\n",
       " 'swing',\n",
       " 'visual-studio',\n",
       " 'entity-framework',\n",
       " 'linq',\n",
       " 'postgresql',\n",
       " 'hibernate',\n",
       " 'list',\n",
       " 'python-2.7',\n",
       " 'css3',\n",
       " 'scala',\n",
       " 'ruby-on-rails-3',\n",
       " 'qt',\n",
       " '.htaccess',\n",
       " 'web-services',\n",
       " 'function',\n",
       " 'sqlite',\n",
       " 'perl',\n",
       " 'excel-vba',\n",
       " 'shell',\n",
       " 'rest',\n",
       " 'api',\n",
       " 'uitableview',\n",
       " 'sql-server-2008',\n",
       " 'laravel',\n",
       " 'codeigniter',\n",
       " 'file',\n",
       " 'cordova',\n",
       " 'google-maps',\n",
       " 'maven',\n",
       " 'visual-studio-2010',\n",
       " 'validation',\n",
       " 'class',\n",
       " 'wcf',\n",
       " 'unit-testing',\n",
       " 'sockets',\n",
       " 'google-chrome',\n",
       " 'jsp',\n",
       " 'symfony2',\n",
       " 'python-3.x',\n",
       " 'tsql']"
      ]
     },
     "execution_count": 197,
     "metadata": {},
     "output_type": "execute_result"
    }
   ],
   "source": [
    "classes"
   ]
  },
  {
   "cell_type": "code",
   "execution_count": 198,
   "id": "77a1a55d",
   "metadata": {},
   "outputs": [],
   "source": [
    "Tags.dropna(subset = ['Tag'],inplace=True)"
   ]
  },
  {
   "cell_type": "code",
   "execution_count": 195,
   "id": "087a7040",
   "metadata": {},
   "outputs": [],
   "source": [
    "Tags['Tag'] = Tags['Tag'].apply(lambda x: None if x not in classes else x)"
   ]
  },
  {
   "cell_type": "code",
   "execution_count": 199,
   "id": "86f0ac15",
   "metadata": {},
   "outputs": [
    {
     "data": {
      "text/plain": [
       "(1755529, 2)"
      ]
     },
     "execution_count": 199,
     "metadata": {},
     "output_type": "execute_result"
    }
   ],
   "source": [
    "Tags.shape"
   ]
  },
  {
   "cell_type": "code",
   "execution_count": 202,
   "id": "dedc11d2",
   "metadata": {},
   "outputs": [
    {
     "data": {
      "text/html": [
       "<div>\n",
       "<style scoped>\n",
       "    .dataframe tbody tr th:only-of-type {\n",
       "        vertical-align: middle;\n",
       "    }\n",
       "\n",
       "    .dataframe tbody tr th {\n",
       "        vertical-align: top;\n",
       "    }\n",
       "\n",
       "    .dataframe thead th {\n",
       "        text-align: right;\n",
       "    }\n",
       "</style>\n",
       "<table border=\"1\" class=\"dataframe\">\n",
       "  <thead>\n",
       "    <tr style=\"text-align: right;\">\n",
       "      <th></th>\n",
       "      <th>Id</th>\n",
       "      <th>Tag</th>\n",
       "    </tr>\n",
       "  </thead>\n",
       "  <tbody>\n",
       "    <tr>\n",
       "      <th>7</th>\n",
       "      <td>120</td>\n",
       "      <td>sql</td>\n",
       "    </tr>\n",
       "    <tr>\n",
       "      <th>8</th>\n",
       "      <td>120</td>\n",
       "      <td>asp.net</td>\n",
       "    </tr>\n",
       "    <tr>\n",
       "      <th>10</th>\n",
       "      <td>180</td>\n",
       "      <td>algorithm</td>\n",
       "    </tr>\n",
       "    <tr>\n",
       "      <th>14</th>\n",
       "      <td>260</td>\n",
       "      <td>c#</td>\n",
       "    </tr>\n",
       "    <tr>\n",
       "      <th>15</th>\n",
       "      <td>260</td>\n",
       "      <td>.net</td>\n",
       "    </tr>\n",
       "  </tbody>\n",
       "</table>\n",
       "</div>"
      ],
      "text/plain": [
       "     Id        Tag\n",
       "7   120        sql\n",
       "8   120    asp.net\n",
       "10  180  algorithm\n",
       "14  260         c#\n",
       "15  260       .net"
      ]
     },
     "execution_count": 202,
     "metadata": {},
     "output_type": "execute_result"
    }
   ],
   "source": [
    "Tags.head()"
   ]
  },
  {
   "cell_type": "code",
   "execution_count": 203,
   "id": "efe9f35b",
   "metadata": {},
   "outputs": [],
   "source": [
    "Tags.to_csv(\"Filtered_tags.csv\")"
   ]
  },
  {
   "cell_type": "code",
   "execution_count": 204,
   "id": "d0940843",
   "metadata": {},
   "outputs": [],
   "source": [
    "Combined.drop(columns = [\"OwnerUserId\",\"CreationDate\",\"Score\",\"AnswerScore\",\"Content\"],inplace = True)"
   ]
  },
  {
   "cell_type": "code",
   "execution_count": 205,
   "id": "576a39cc",
   "metadata": {},
   "outputs": [
    {
     "data": {
      "text/html": [
       "<div>\n",
       "<style scoped>\n",
       "    .dataframe tbody tr th:only-of-type {\n",
       "        vertical-align: middle;\n",
       "    }\n",
       "\n",
       "    .dataframe tbody tr th {\n",
       "        vertical-align: top;\n",
       "    }\n",
       "\n",
       "    .dataframe thead th {\n",
       "        text-align: right;\n",
       "    }\n",
       "</style>\n",
       "<table border=\"1\" class=\"dataframe\">\n",
       "  <thead>\n",
       "    <tr style=\"text-align: right;\">\n",
       "      <th></th>\n",
       "      <th>Id</th>\n",
       "      <th>Title</th>\n",
       "      <th>Body</th>\n",
       "    </tr>\n",
       "  </thead>\n",
       "  <tbody>\n",
       "    <tr>\n",
       "      <th>0</th>\n",
       "      <td>80</td>\n",
       "      <td>SQLStatement.execute() - multiple queries in o...</td>\n",
       "      <td>i 've write database generation script in sql ...</td>\n",
       "    </tr>\n",
       "    <tr>\n",
       "      <th>1</th>\n",
       "      <td>90</td>\n",
       "      <td>Good branching and merging tutorials for Torto...</td>\n",
       "      <td>be there really good tutorial explain branchin...</td>\n",
       "    </tr>\n",
       "    <tr>\n",
       "      <th>2</th>\n",
       "      <td>120</td>\n",
       "      <td>ASP.NET Site Maps</td>\n",
       "      <td>have anyone get experience create sql-based as...</td>\n",
       "    </tr>\n",
       "    <tr>\n",
       "      <th>3</th>\n",
       "      <td>180</td>\n",
       "      <td>Function for creating color wheels</td>\n",
       "      <td>be something i 've pseudo-solved many time nev...</td>\n",
       "    </tr>\n",
       "    <tr>\n",
       "      <th>4</th>\n",
       "      <td>260</td>\n",
       "      <td>Adding scripting functionality to .NET applica...</td>\n",
       "      <td>i have little game write in c use database as ...</td>\n",
       "    </tr>\n",
       "  </tbody>\n",
       "</table>\n",
       "</div>"
      ],
      "text/plain": [
       "    Id                                              Title  \\\n",
       "0   80  SQLStatement.execute() - multiple queries in o...   \n",
       "1   90  Good branching and merging tutorials for Torto...   \n",
       "2  120                                  ASP.NET Site Maps   \n",
       "3  180                 Function for creating color wheels   \n",
       "4  260  Adding scripting functionality to .NET applica...   \n",
       "\n",
       "                                                Body  \n",
       "0  i 've write database generation script in sql ...  \n",
       "1  be there really good tutorial explain branchin...  \n",
       "2  have anyone get experience create sql-based as...  \n",
       "3  be something i 've pseudo-solved many time nev...  \n",
       "4  i have little game write in c use database as ...  "
      ]
     },
     "execution_count": 205,
     "metadata": {},
     "output_type": "execute_result"
    }
   ],
   "source": [
    "Combined.head()"
   ]
  },
  {
   "cell_type": "code",
   "execution_count": 206,
   "id": "04e5d9a0",
   "metadata": {},
   "outputs": [],
   "source": [
    "Combined.to_csv(\"Combined.csv\")"
   ]
  },
  {
   "cell_type": "code",
   "execution_count": null,
   "id": "57d9ecba",
   "metadata": {},
   "outputs": [],
   "source": []
  }
 ],
 "metadata": {
  "kernelspec": {
   "display_name": "Python 3",
   "language": "python",
   "name": "python3"
  },
  "language_info": {
   "codemirror_mode": {
    "name": "ipython",
    "version": 3
   },
   "file_extension": ".py",
   "mimetype": "text/x-python",
   "name": "python",
   "nbconvert_exporter": "python",
   "pygments_lexer": "ipython3",
   "version": "3.6.13"
  }
 },
 "nbformat": 4,
 "nbformat_minor": 5
}
